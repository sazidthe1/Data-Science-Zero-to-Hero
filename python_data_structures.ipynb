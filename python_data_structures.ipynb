{
  "nbformat": 4,
  "nbformat_minor": 0,
  "metadata": {
    "colab": {
      "provenance": [],
      "include_colab_link": true
    },
    "kernelspec": {
      "name": "python3",
      "display_name": "Python 3"
    },
    "language_info": {
      "name": "python"
    },
    "widgets": {
      "application/vnd.jupyter.widget-state+json": {
        "e5316047b02749b19dec13322bbd5537": {
          "model_module": "@jupyter-widgets/controls",
          "model_name": "HBoxModel",
          "model_module_version": "1.5.0",
          "state": {
            "_dom_classes": [],
            "_model_module": "@jupyter-widgets/controls",
            "_model_module_version": "1.5.0",
            "_model_name": "HBoxModel",
            "_view_count": null,
            "_view_module": "@jupyter-widgets/controls",
            "_view_module_version": "1.5.0",
            "_view_name": "HBoxView",
            "box_style": "",
            "children": [
              "IPY_MODEL_74eb85fa836b42c08ea0bcdb5374a4a6",
              "IPY_MODEL_8bb5e89a741f4303a749a41d4497f242",
              "IPY_MODEL_d558a8918a954323b7c007cdde166d68"
            ],
            "layout": "IPY_MODEL_7eec827f59bb4f8e908ae2f682cbdf16"
          }
        },
        "74eb85fa836b42c08ea0bcdb5374a4a6": {
          "model_module": "@jupyter-widgets/controls",
          "model_name": "HTMLModel",
          "model_module_version": "1.5.0",
          "state": {
            "_dom_classes": [],
            "_model_module": "@jupyter-widgets/controls",
            "_model_module_version": "1.5.0",
            "_model_name": "HTMLModel",
            "_view_count": null,
            "_view_module": "@jupyter-widgets/controls",
            "_view_module_version": "1.5.0",
            "_view_name": "HTMLView",
            "description": "",
            "description_tooltip": null,
            "layout": "IPY_MODEL_882b53361b804bdda95f1aff19a07df6",
            "placeholder": "​",
            "style": "IPY_MODEL_9cb5161d9d6a4a5693eb9f916b745258",
            "value": "100%"
          }
        },
        "8bb5e89a741f4303a749a41d4497f242": {
          "model_module": "@jupyter-widgets/controls",
          "model_name": "FloatProgressModel",
          "model_module_version": "1.5.0",
          "state": {
            "_dom_classes": [],
            "_model_module": "@jupyter-widgets/controls",
            "_model_module_version": "1.5.0",
            "_model_name": "FloatProgressModel",
            "_view_count": null,
            "_view_module": "@jupyter-widgets/controls",
            "_view_module_version": "1.5.0",
            "_view_name": "ProgressView",
            "bar_style": "success",
            "description": "",
            "description_tooltip": null,
            "layout": "IPY_MODEL_00be3cde545a40ca91302f08b3cbc515",
            "max": 11,
            "min": 0,
            "orientation": "horizontal",
            "style": "IPY_MODEL_f70e6fa5500e4d3eb1609e52a41f7130",
            "value": 11
          }
        },
        "d558a8918a954323b7c007cdde166d68": {
          "model_module": "@jupyter-widgets/controls",
          "model_name": "HTMLModel",
          "model_module_version": "1.5.0",
          "state": {
            "_dom_classes": [],
            "_model_module": "@jupyter-widgets/controls",
            "_model_module_version": "1.5.0",
            "_model_name": "HTMLModel",
            "_view_count": null,
            "_view_module": "@jupyter-widgets/controls",
            "_view_module_version": "1.5.0",
            "_view_name": "HTMLView",
            "description": "",
            "description_tooltip": null,
            "layout": "IPY_MODEL_cbe398f96b1e48e9a694d4dd4a89105a",
            "placeholder": "​",
            "style": "IPY_MODEL_360846af7b544b79af69e70cc6affacc",
            "value": " 11/11 [00:22&lt;00:00,  2.00s/it]"
          }
        },
        "7eec827f59bb4f8e908ae2f682cbdf16": {
          "model_module": "@jupyter-widgets/base",
          "model_name": "LayoutModel",
          "model_module_version": "1.2.0",
          "state": {
            "_model_module": "@jupyter-widgets/base",
            "_model_module_version": "1.2.0",
            "_model_name": "LayoutModel",
            "_view_count": null,
            "_view_module": "@jupyter-widgets/base",
            "_view_module_version": "1.2.0",
            "_view_name": "LayoutView",
            "align_content": null,
            "align_items": null,
            "align_self": null,
            "border": null,
            "bottom": null,
            "display": null,
            "flex": null,
            "flex_flow": null,
            "grid_area": null,
            "grid_auto_columns": null,
            "grid_auto_flow": null,
            "grid_auto_rows": null,
            "grid_column": null,
            "grid_gap": null,
            "grid_row": null,
            "grid_template_areas": null,
            "grid_template_columns": null,
            "grid_template_rows": null,
            "height": null,
            "justify_content": null,
            "justify_items": null,
            "left": null,
            "margin": null,
            "max_height": null,
            "max_width": null,
            "min_height": null,
            "min_width": null,
            "object_fit": null,
            "object_position": null,
            "order": null,
            "overflow": null,
            "overflow_x": null,
            "overflow_y": null,
            "padding": null,
            "right": null,
            "top": null,
            "visibility": null,
            "width": null
          }
        },
        "882b53361b804bdda95f1aff19a07df6": {
          "model_module": "@jupyter-widgets/base",
          "model_name": "LayoutModel",
          "model_module_version": "1.2.0",
          "state": {
            "_model_module": "@jupyter-widgets/base",
            "_model_module_version": "1.2.0",
            "_model_name": "LayoutModel",
            "_view_count": null,
            "_view_module": "@jupyter-widgets/base",
            "_view_module_version": "1.2.0",
            "_view_name": "LayoutView",
            "align_content": null,
            "align_items": null,
            "align_self": null,
            "border": null,
            "bottom": null,
            "display": null,
            "flex": null,
            "flex_flow": null,
            "grid_area": null,
            "grid_auto_columns": null,
            "grid_auto_flow": null,
            "grid_auto_rows": null,
            "grid_column": null,
            "grid_gap": null,
            "grid_row": null,
            "grid_template_areas": null,
            "grid_template_columns": null,
            "grid_template_rows": null,
            "height": null,
            "justify_content": null,
            "justify_items": null,
            "left": null,
            "margin": null,
            "max_height": null,
            "max_width": null,
            "min_height": null,
            "min_width": null,
            "object_fit": null,
            "object_position": null,
            "order": null,
            "overflow": null,
            "overflow_x": null,
            "overflow_y": null,
            "padding": null,
            "right": null,
            "top": null,
            "visibility": null,
            "width": null
          }
        },
        "9cb5161d9d6a4a5693eb9f916b745258": {
          "model_module": "@jupyter-widgets/controls",
          "model_name": "DescriptionStyleModel",
          "model_module_version": "1.5.0",
          "state": {
            "_model_module": "@jupyter-widgets/controls",
            "_model_module_version": "1.5.0",
            "_model_name": "DescriptionStyleModel",
            "_view_count": null,
            "_view_module": "@jupyter-widgets/base",
            "_view_module_version": "1.2.0",
            "_view_name": "StyleView",
            "description_width": ""
          }
        },
        "00be3cde545a40ca91302f08b3cbc515": {
          "model_module": "@jupyter-widgets/base",
          "model_name": "LayoutModel",
          "model_module_version": "1.2.0",
          "state": {
            "_model_module": "@jupyter-widgets/base",
            "_model_module_version": "1.2.0",
            "_model_name": "LayoutModel",
            "_view_count": null,
            "_view_module": "@jupyter-widgets/base",
            "_view_module_version": "1.2.0",
            "_view_name": "LayoutView",
            "align_content": null,
            "align_items": null,
            "align_self": null,
            "border": null,
            "bottom": null,
            "display": null,
            "flex": null,
            "flex_flow": null,
            "grid_area": null,
            "grid_auto_columns": null,
            "grid_auto_flow": null,
            "grid_auto_rows": null,
            "grid_column": null,
            "grid_gap": null,
            "grid_row": null,
            "grid_template_areas": null,
            "grid_template_columns": null,
            "grid_template_rows": null,
            "height": null,
            "justify_content": null,
            "justify_items": null,
            "left": null,
            "margin": null,
            "max_height": null,
            "max_width": null,
            "min_height": null,
            "min_width": null,
            "object_fit": null,
            "object_position": null,
            "order": null,
            "overflow": null,
            "overflow_x": null,
            "overflow_y": null,
            "padding": null,
            "right": null,
            "top": null,
            "visibility": null,
            "width": null
          }
        },
        "f70e6fa5500e4d3eb1609e52a41f7130": {
          "model_module": "@jupyter-widgets/controls",
          "model_name": "ProgressStyleModel",
          "model_module_version": "1.5.0",
          "state": {
            "_model_module": "@jupyter-widgets/controls",
            "_model_module_version": "1.5.0",
            "_model_name": "ProgressStyleModel",
            "_view_count": null,
            "_view_module": "@jupyter-widgets/base",
            "_view_module_version": "1.2.0",
            "_view_name": "StyleView",
            "bar_color": null,
            "description_width": ""
          }
        },
        "cbe398f96b1e48e9a694d4dd4a89105a": {
          "model_module": "@jupyter-widgets/base",
          "model_name": "LayoutModel",
          "model_module_version": "1.2.0",
          "state": {
            "_model_module": "@jupyter-widgets/base",
            "_model_module_version": "1.2.0",
            "_model_name": "LayoutModel",
            "_view_count": null,
            "_view_module": "@jupyter-widgets/base",
            "_view_module_version": "1.2.0",
            "_view_name": "LayoutView",
            "align_content": null,
            "align_items": null,
            "align_self": null,
            "border": null,
            "bottom": null,
            "display": null,
            "flex": null,
            "flex_flow": null,
            "grid_area": null,
            "grid_auto_columns": null,
            "grid_auto_flow": null,
            "grid_auto_rows": null,
            "grid_column": null,
            "grid_gap": null,
            "grid_row": null,
            "grid_template_areas": null,
            "grid_template_columns": null,
            "grid_template_rows": null,
            "height": null,
            "justify_content": null,
            "justify_items": null,
            "left": null,
            "margin": null,
            "max_height": null,
            "max_width": null,
            "min_height": null,
            "min_width": null,
            "object_fit": null,
            "object_position": null,
            "order": null,
            "overflow": null,
            "overflow_x": null,
            "overflow_y": null,
            "padding": null,
            "right": null,
            "top": null,
            "visibility": null,
            "width": null
          }
        },
        "360846af7b544b79af69e70cc6affacc": {
          "model_module": "@jupyter-widgets/controls",
          "model_name": "DescriptionStyleModel",
          "model_module_version": "1.5.0",
          "state": {
            "_model_module": "@jupyter-widgets/controls",
            "_model_module_version": "1.5.0",
            "_model_name": "DescriptionStyleModel",
            "_view_count": null,
            "_view_module": "@jupyter-widgets/base",
            "_view_module_version": "1.2.0",
            "_view_name": "StyleView",
            "description_width": ""
          }
        }
      }
    }
  },
  "cells": [
    {
      "cell_type": "markdown",
      "metadata": {
        "id": "view-in-github",
        "colab_type": "text"
      },
      "source": [
        "<a href=\"https://colab.research.google.com/github/sazidthe1/Data-Science-Zero-to-Hero/blob/main/python_data_structures.ipynb\" target=\"_parent\"><img src=\"https://colab.research.google.com/assets/colab-badge.svg\" alt=\"Open In Colab\"/></a>"
      ]
    },
    {
      "cell_type": "markdown",
      "metadata": {
        "id": "IpBs1k_TGumz"
      },
      "source": [
        "# Python Data Structures (Containers)\n",
        "- Lists\n",
        "- Dictionaries\n",
        "- Sets\n",
        "- Tuples"
      ]
    },
    {
      "cell_type": "markdown",
      "metadata": {
        "id": "kjVif4cxHnp0"
      },
      "source": [
        "# List\n",
        "Python equivalent of an array, but is resizeable and can contain elements of different data types."
      ]
    },
    {
      "cell_type": "code",
      "metadata": {
        "colab": {
          "base_uri": "https://localhost:8080/"
        },
        "id": "cFdYN3gIGivd",
        "outputId": "6d1a1313-5fb6-4ad9-ef28-273fe9f47019"
      },
      "source": [
        "# Indexing 0 1 2 3\n",
        "s = ['AI',1,'is',2,'the',2.4,'new',True,'electricity']\n",
        "s"
      ],
      "execution_count": 1,
      "outputs": [
        {
          "output_type": "execute_result",
          "data": {
            "text/plain": [
              "['AI', 1, 'is', 2, 'the', 2.4, 'new', True, 'electricity']"
            ]
          },
          "metadata": {},
          "execution_count": 1
        }
      ]
    },
    {
      "cell_type": "code",
      "metadata": {
        "colab": {
          "base_uri": "https://localhost:8080/"
        },
        "id": "oIwoNQRfO-tm",
        "outputId": "0243cbb3-5463-4a86-bcf7-9527f6c8b9d7"
      },
      "source": [
        "s[0], s[3] # Indexing"
      ],
      "execution_count": 2,
      "outputs": [
        {
          "output_type": "execute_result",
          "data": {
            "text/plain": [
              "('AI', 2)"
            ]
          },
          "metadata": {},
          "execution_count": 2
        }
      ]
    },
    {
      "cell_type": "code",
      "metadata": {
        "colab": {
          "base_uri": "https://localhost:8080/"
        },
        "id": "0MpMQmEsPECr",
        "outputId": "b8a6c892-b40a-4ce3-9799-85a13da98a92"
      },
      "source": [
        "s[-1], s[-4] # Negative indices count from the end of the list"
      ],
      "execution_count": 3,
      "outputs": [
        {
          "output_type": "execute_result",
          "data": {
            "text/plain": [
              "('electricity', 2.4)"
            ]
          },
          "metadata": {},
          "execution_count": 3
        }
      ]
    },
    {
      "cell_type": "code",
      "metadata": {
        "colab": {
          "base_uri": "https://localhost:8080/"
        },
        "id": "nXCDEnUZPO27",
        "outputId": "195dba52-9499-445c-9ca3-05ba8ad8bf4b"
      },
      "source": [
        "s[-1]='revolution' # Assigning values to a list\n",
        "s"
      ],
      "execution_count": 4,
      "outputs": [
        {
          "output_type": "execute_result",
          "data": {
            "text/plain": [
              "['AI', 1, 'is', 2, 'the', 2.4, 'new', True, 'revolution']"
            ]
          },
          "metadata": {},
          "execution_count": 4
        }
      ]
    },
    {
      "cell_type": "code",
      "metadata": {
        "colab": {
          "base_uri": "https://localhost:8080/"
        },
        "id": "WxE8iPEFPZCb",
        "outputId": "2cfd6406-5cd5-4c44-a013-9f2751f9d1c7"
      },
      "source": [
        "s.append(3) # Add a new element to the end of the list\n",
        "s"
      ],
      "execution_count": 5,
      "outputs": [
        {
          "output_type": "execute_result",
          "data": {
            "text/plain": [
              "['AI', 1, 'is', 2, 'the', 2.4, 'new', True, 'revolution', 3]"
            ]
          },
          "metadata": {},
          "execution_count": 5
        }
      ]
    },
    {
      "cell_type": "code",
      "metadata": {
        "colab": {
          "base_uri": "https://localhost:8080/"
        },
        "id": "bfyx86KbPmsT",
        "outputId": "31d530a7-0528-44cd-8803-660826140c0a"
      },
      "source": [
        "s.extend(['We', 'love', 'Python']) # Add multiple new element to the end of the list\n",
        "s"
      ],
      "execution_count": 6,
      "outputs": [
        {
          "output_type": "execute_result",
          "data": {
            "text/plain": [
              "['AI',\n",
              " 1,\n",
              " 'is',\n",
              " 2,\n",
              " 'the',\n",
              " 2.4,\n",
              " 'new',\n",
              " True,\n",
              " 'revolution',\n",
              " 3,\n",
              " 'We',\n",
              " 'love',\n",
              " 'Python']"
            ]
          },
          "metadata": {},
          "execution_count": 6
        }
      ]
    },
    {
      "cell_type": "code",
      "metadata": {
        "colab": {
          "base_uri": "https://localhost:8080/"
        },
        "id": "rr5tGT95PwmD",
        "outputId": "45e14347-ac24-4699-85ba-7b516904e441"
      },
      "source": [
        "s.append(['We', 'love', 'Python']) # Add a list to the end of the list\n",
        "s"
      ],
      "execution_count": 7,
      "outputs": [
        {
          "output_type": "execute_result",
          "data": {
            "text/plain": [
              "['AI',\n",
              " 1,\n",
              " 'is',\n",
              " 2,\n",
              " 'the',\n",
              " 2.4,\n",
              " 'new',\n",
              " True,\n",
              " 'revolution',\n",
              " 3,\n",
              " 'We',\n",
              " 'love',\n",
              " 'Python',\n",
              " ['We', 'love', 'Python']]"
            ]
          },
          "metadata": {},
          "execution_count": 7
        }
      ]
    },
    {
      "cell_type": "code",
      "metadata": {
        "colab": {
          "base_uri": "https://localhost:8080/",
          "height": 35
        },
        "id": "VPAw_O9gQN-t",
        "outputId": "3adec395-7fcc-4bb4-8b33-ca787d1ab8c1"
      },
      "source": [
        "s[-1][-1] # We can also access the list inside the list"
      ],
      "execution_count": 8,
      "outputs": [
        {
          "output_type": "execute_result",
          "data": {
            "text/plain": [
              "'Python'"
            ],
            "application/vnd.google.colaboratory.intrinsic+json": {
              "type": "string"
            }
          },
          "metadata": {},
          "execution_count": 8
        }
      ]
    },
    {
      "cell_type": "code",
      "metadata": {
        "colab": {
          "base_uri": "https://localhost:8080/"
        },
        "id": "ornOmS83QWOb",
        "outputId": "24639c61-e9cf-423a-f0f8-24d9ab4f4058"
      },
      "source": [
        "# Deleting values\n",
        "rem = s.pop()\n",
        "rem, s"
      ],
      "execution_count": 9,
      "outputs": [
        {
          "output_type": "execute_result",
          "data": {
            "text/plain": [
              "(['We', 'love', 'Python'],\n",
              " ['AI',\n",
              "  1,\n",
              "  'is',\n",
              "  2,\n",
              "  'the',\n",
              "  2.4,\n",
              "  'new',\n",
              "  True,\n",
              "  'revolution',\n",
              "  3,\n",
              "  'We',\n",
              "  'love',\n",
              "  'Python'])"
            ]
          },
          "metadata": {},
          "execution_count": 9
        }
      ]
    },
    {
      "cell_type": "code",
      "metadata": {
        "colab": {
          "base_uri": "https://localhost:8080/"
        },
        "id": "OkjvLmc_bEs6",
        "outputId": "d148963f-7d3e-46fc-fffb-277c4e8b805a"
      },
      "source": [
        "s"
      ],
      "execution_count": 10,
      "outputs": [
        {
          "output_type": "execute_result",
          "data": {
            "text/plain": [
              "['AI',\n",
              " 1,\n",
              " 'is',\n",
              " 2,\n",
              " 'the',\n",
              " 2.4,\n",
              " 'new',\n",
              " True,\n",
              " 'revolution',\n",
              " 3,\n",
              " 'We',\n",
              " 'love',\n",
              " 'Python']"
            ]
          },
          "metadata": {},
          "execution_count": 10
        }
      ]
    },
    {
      "cell_type": "code",
      "metadata": {
        "colab": {
          "base_uri": "https://localhost:8080/"
        },
        "id": "2ihNCU_RQhik",
        "outputId": "f6ac1eab-cdd3-496e-9ea3-c67e4afee914"
      },
      "source": [
        "s.remove('Python')\n",
        "s"
      ],
      "execution_count": 11,
      "outputs": [
        {
          "output_type": "execute_result",
          "data": {
            "text/plain": [
              "['AI', 1, 'is', 2, 'the', 2.4, 'new', True, 'revolution', 3, 'We', 'love']"
            ]
          },
          "metadata": {},
          "execution_count": 11
        }
      ]
    },
    {
      "cell_type": "code",
      "metadata": {
        "colab": {
          "base_uri": "https://localhost:8080/"
        },
        "id": "gQV4Fx_lQol0",
        "outputId": "0c8d9895-bb35-4d25-930f-c4a956300324"
      },
      "source": [
        "del s[-3]\n",
        "s"
      ],
      "execution_count": 12,
      "outputs": [
        {
          "output_type": "execute_result",
          "data": {
            "text/plain": [
              "['AI', 1, 'is', 2, 'the', 2.4, 'new', True, 'revolution', 'We', 'love']"
            ]
          },
          "metadata": {},
          "execution_count": 12
        }
      ]
    },
    {
      "cell_type": "code",
      "metadata": {
        "colab": {
          "base_uri": "https://localhost:8080/"
        },
        "id": "gfVu0SmcQ0GM",
        "outputId": "5edbfd95-2378-420f-a742-868b92398e31"
      },
      "source": [
        "# Slicing\n",
        "s[1:5]  # Get a slice from index 0 to 5 (exclusive)"
      ],
      "execution_count": 13,
      "outputs": [
        {
          "output_type": "execute_result",
          "data": {
            "text/plain": [
              "[1, 'is', 2, 'the']"
            ]
          },
          "metadata": {},
          "execution_count": 13
        }
      ]
    },
    {
      "cell_type": "code",
      "metadata": {
        "colab": {
          "base_uri": "https://localhost:8080/"
        },
        "id": "EquTAFEMQ_PU",
        "outputId": "9ca0dc59-0770-4386-d092-8f31360e411e"
      },
      "source": [
        "s[3:] # Get a slice from index 3 to the end"
      ],
      "execution_count": 14,
      "outputs": [
        {
          "output_type": "execute_result",
          "data": {
            "text/plain": [
              "[2, 'the', 2.4, 'new', True, 'revolution', 'We', 'love']"
            ]
          },
          "metadata": {},
          "execution_count": 14
        }
      ]
    },
    {
      "cell_type": "code",
      "metadata": {
        "colab": {
          "base_uri": "https://localhost:8080/"
        },
        "id": "h-21uZ6bRKIk",
        "outputId": "1e51e4da-a2b1-4a3b-f3a3-1db697e54446"
      },
      "source": [
        "s[:3] # Get a slice from the start to index 2 (exclusive)"
      ],
      "execution_count": 15,
      "outputs": [
        {
          "output_type": "execute_result",
          "data": {
            "text/plain": [
              "['AI', 1, 'is']"
            ]
          },
          "metadata": {},
          "execution_count": 15
        }
      ]
    },
    {
      "cell_type": "code",
      "metadata": {
        "colab": {
          "base_uri": "https://localhost:8080/"
        },
        "id": "MLfRvc17RTCs",
        "outputId": "bc809e57-32dc-4fd3-fb8c-3eadf663dbd7"
      },
      "source": [
        "s[:] # Get a slice of the whole list"
      ],
      "execution_count": 16,
      "outputs": [
        {
          "output_type": "execute_result",
          "data": {
            "text/plain": [
              "['AI', 1, 'is', 2, 'the', 2.4, 'new', True, 'revolution', 'We', 'love']"
            ]
          },
          "metadata": {},
          "execution_count": 16
        }
      ]
    },
    {
      "cell_type": "code",
      "metadata": {
        "colab": {
          "base_uri": "https://localhost:8080/"
        },
        "id": "2TlAeMSFcLf2",
        "outputId": "87a336fe-4059-4575-c9b2-2d8096ef8925"
      },
      "source": [
        "len(s) # prints out the length"
      ],
      "execution_count": 17,
      "outputs": [
        {
          "output_type": "execute_result",
          "data": {
            "text/plain": [
              "11"
            ]
          },
          "metadata": {},
          "execution_count": 17
        }
      ]
    },
    {
      "cell_type": "code",
      "metadata": {
        "colab": {
          "base_uri": "https://localhost:8080/"
        },
        "id": "g9zbMEXfRU8s",
        "outputId": "dd6cd966-ced4-4322-dcea-97e5a0b5a804"
      },
      "source": [
        "s[:-3]"
      ],
      "execution_count": 18,
      "outputs": [
        {
          "output_type": "execute_result",
          "data": {
            "text/plain": [
              "['AI', 1, 'is', 2, 'the', 2.4, 'new', True]"
            ]
          },
          "metadata": {},
          "execution_count": 18
        }
      ]
    },
    {
      "cell_type": "markdown",
      "metadata": {
        "id": "GwG7fbC1R3l1"
      },
      "source": [
        "## Loops"
      ]
    },
    {
      "cell_type": "code",
      "metadata": {
        "colab": {
          "base_uri": "https://localhost:8080/"
        },
        "id": "ZqG_zo6mSTGU",
        "outputId": "bda01302-c502-4eab-adc9-25eadc172424"
      },
      "source": [
        "for element in s:\n",
        "  print(element)"
      ],
      "execution_count": 19,
      "outputs": [
        {
          "output_type": "stream",
          "name": "stdout",
          "text": [
            "AI\n",
            "1\n",
            "is\n",
            "2\n",
            "the\n",
            "2.4\n",
            "new\n",
            "True\n",
            "revolution\n",
            "We\n",
            "love\n"
          ]
        }
      ]
    },
    {
      "cell_type": "code",
      "metadata": {
        "colab": {
          "base_uri": "https://localhost:8080/"
        },
        "id": "zZ41EgTwcgid",
        "outputId": "88ec8f93-7bb6-48a2-f908-7d6434a780dc"
      },
      "source": [
        "list(enumerate(s))"
      ],
      "execution_count": 20,
      "outputs": [
        {
          "output_type": "execute_result",
          "data": {
            "text/plain": [
              "[(0, 'AI'),\n",
              " (1, 1),\n",
              " (2, 'is'),\n",
              " (3, 2),\n",
              " (4, 'the'),\n",
              " (5, 2.4),\n",
              " (6, 'new'),\n",
              " (7, True),\n",
              " (8, 'revolution'),\n",
              " (9, 'We'),\n",
              " (10, 'love')]"
            ]
          },
          "metadata": {},
          "execution_count": 20
        }
      ]
    },
    {
      "cell_type": "code",
      "metadata": {
        "id": "vF6ApNZESbql",
        "colab": {
          "base_uri": "https://localhost:8080/"
        },
        "outputId": "77d731f4-1207-45b7-adec-af3fc003cc73"
      },
      "source": [
        "# If you want access to the index of each element within the body of a loop, use the built-in enumerate function\n",
        "for idx,element in enumerate(s):\n",
        "  print(\"%d %s\" %(idx,element))"
      ],
      "execution_count": 21,
      "outputs": [
        {
          "output_type": "stream",
          "name": "stdout",
          "text": [
            "0 AI\n",
            "1 1\n",
            "2 is\n",
            "3 2\n",
            "4 the\n",
            "5 2.4\n",
            "6 new\n",
            "7 True\n",
            "8 revolution\n",
            "9 We\n",
            "10 love\n"
          ]
        }
      ]
    },
    {
      "cell_type": "code",
      "source": [
        "stx = \"MasterCourse bridges gap between academia and industry\"\n",
        "y = stx.split()\n",
        "y"
      ],
      "metadata": {
        "colab": {
          "base_uri": "https://localhost:8080/"
        },
        "id": "bEC8JCSv7IXp",
        "outputId": "467980a2-9af5-42a1-8456-310a9e671a4d"
      },
      "execution_count": 22,
      "outputs": [
        {
          "output_type": "execute_result",
          "data": {
            "text/plain": [
              "['MasterCourse', 'bridges', 'gap', 'between', 'academia', 'and', 'industry']"
            ]
          },
          "metadata": {},
          "execution_count": 22
        }
      ]
    },
    {
      "cell_type": "code",
      "source": [
        "for xv, yv in zip(s,y):\n",
        "  print(xv, yv)"
      ],
      "metadata": {
        "colab": {
          "base_uri": "https://localhost:8080/"
        },
        "id": "Wm4cHRzp7fs5",
        "outputId": "deded48d-cc7b-4b98-ca99-3a9d895aa82c"
      },
      "execution_count": 23,
      "outputs": [
        {
          "output_type": "stream",
          "name": "stdout",
          "text": [
            "AI MasterCourse\n",
            "1 bridges\n",
            "is gap\n",
            "2 between\n",
            "the academia\n",
            "2.4 and\n",
            "new industry\n"
          ]
        }
      ]
    },
    {
      "cell_type": "code",
      "source": [
        "from tqdm import tqdm\n",
        "import time\n",
        "concat = \"\"\n",
        "for xv in tqdm(s):\n",
        "  concat = concat + str(xv)\n",
        "  time.sleep(2)"
      ],
      "metadata": {
        "colab": {
          "base_uri": "https://localhost:8080/"
        },
        "id": "pDn5gue17yR8",
        "outputId": "c85e4b55-3885-4cb5-fdb7-47a31aea4ba1"
      },
      "execution_count": 25,
      "outputs": [
        {
          "output_type": "stream",
          "name": "stderr",
          "text": [
            "100%|██████████| 11/11 [00:22<00:00,  2.00s/it]\n"
          ]
        }
      ]
    },
    {
      "cell_type": "code",
      "source": [
        "from tqdm.notebook import tqdm\n",
        "import time\n",
        "concat = \"\"\n",
        "for xv in tqdm(s):\n",
        "  concat = concat + str(xv)\n",
        "  time.sleep(2)"
      ],
      "metadata": {
        "colab": {
          "base_uri": "https://localhost:8080/",
          "height": 49,
          "referenced_widgets": [
            "e5316047b02749b19dec13322bbd5537",
            "74eb85fa836b42c08ea0bcdb5374a4a6",
            "8bb5e89a741f4303a749a41d4497f242",
            "d558a8918a954323b7c007cdde166d68",
            "7eec827f59bb4f8e908ae2f682cbdf16",
            "882b53361b804bdda95f1aff19a07df6",
            "9cb5161d9d6a4a5693eb9f916b745258",
            "00be3cde545a40ca91302f08b3cbc515",
            "f70e6fa5500e4d3eb1609e52a41f7130",
            "cbe398f96b1e48e9a694d4dd4a89105a",
            "360846af7b544b79af69e70cc6affacc"
          ]
        },
        "id": "n2tuBJRH8Xjj",
        "outputId": "4aaec964-d775-4401-dbd7-ffa5532e953c"
      },
      "execution_count": 26,
      "outputs": [
        {
          "output_type": "display_data",
          "data": {
            "text/plain": [
              "  0%|          | 0/11 [00:00<?, ?it/s]"
            ],
            "application/vnd.jupyter.widget-view+json": {
              "version_major": 2,
              "version_minor": 0,
              "model_id": "e5316047b02749b19dec13322bbd5537"
            }
          },
          "metadata": {}
        }
      ]
    },
    {
      "cell_type": "markdown",
      "metadata": {
        "id": "5uigkhR5Swjk"
      },
      "source": [
        "## List Comprehensions"
      ]
    },
    {
      "cell_type": "code",
      "metadata": {
        "colab": {
          "base_uri": "https://localhost:8080/"
        },
        "id": "EKEwbKFnSzl0",
        "outputId": "5ba41f48-82aa-4022-c814-3a162390f7f3"
      },
      "source": [
        "import time\n",
        "start = time.time()\n",
        "\n",
        "nums = list(range(0,5))\n",
        "squares = []\n",
        "\n",
        "for s in nums:\n",
        "  squares.append(s**2)\n",
        "\n",
        "done = time.time()\n",
        "\n",
        "elapsed = done - start\n",
        "\n",
        "squares,elapsed"
      ],
      "execution_count": 27,
      "outputs": [
        {
          "output_type": "execute_result",
          "data": {
            "text/plain": [
              "([0, 1, 4, 9, 16], 0.0002605915069580078)"
            ]
          },
          "metadata": {},
          "execution_count": 27
        }
      ]
    },
    {
      "cell_type": "code",
      "metadata": {
        "colab": {
          "base_uri": "https://localhost:8080/"
        },
        "id": "PhVmGCGNTOh9",
        "outputId": "fdfa291b-07cd-4cab-c253-e47f705e62d0"
      },
      "source": [
        "# The upper codeblock can be written as following\n",
        "import time\n",
        "start = time.time()\n",
        "\n",
        "squares = [s**2 for s in list(range(0,5))]\n",
        "\n",
        "done = time.time()\n",
        "\n",
        "elapsed = done - start\n",
        "\n",
        "squares,elapsed"
      ],
      "execution_count": 30,
      "outputs": [
        {
          "output_type": "execute_result",
          "data": {
            "text/plain": [
              "([0, 1, 4, 9, 16], 0.00021219253540039062)"
            ]
          },
          "metadata": {},
          "execution_count": 30
        }
      ]
    },
    {
      "cell_type": "code",
      "metadata": {
        "colab": {
          "base_uri": "https://localhost:8080/"
        },
        "id": "O2x1ExFOTfdu",
        "outputId": "b77a1f35-0a8a-4fbb-b407-fcc288f0d4d4"
      },
      "source": [
        "# Can also contain conditions\n",
        "nums = list(range(0,5))\n",
        "even_squares = [s ** 2 for s in nums if s % 2 == 0]\n",
        "even_squares"
      ],
      "execution_count": 32,
      "outputs": [
        {
          "output_type": "execute_result",
          "data": {
            "text/plain": [
              "[0, 4, 16]"
            ]
          },
          "metadata": {},
          "execution_count": 32
        }
      ]
    },
    {
      "cell_type": "markdown",
      "metadata": {
        "id": "4fYlEJVa2gdZ"
      },
      "source": [
        "# Dictionaries\n",
        "\n",
        "A dictionary stores (key, value) pairs"
      ]
    },
    {
      "cell_type": "code",
      "metadata": {
        "colab": {
          "base_uri": "https://localhost:8080/"
        },
        "id": "voQtRgv62i3i",
        "outputId": "2d64ba81-6865-45e3-d289-865d2db2615a"
      },
      "source": [
        "d = {'cat': 'cute', 'dog': 'furry'}  # Create a new dictionary with some data\n",
        "print(d['cat'])"
      ],
      "execution_count": 33,
      "outputs": [
        {
          "output_type": "stream",
          "name": "stdout",
          "text": [
            "cute\n"
          ]
        }
      ]
    },
    {
      "cell_type": "code",
      "metadata": {
        "colab": {
          "base_uri": "https://localhost:8080/"
        },
        "id": "aik12m9O2sMS",
        "outputId": "4af8dab3-d503-44b5-e7fb-ec25cfa4ebf7"
      },
      "source": [
        "print('cat' in d)     # Check if a dictionary has a given key; prints \"True\""
      ],
      "execution_count": 34,
      "outputs": [
        {
          "output_type": "stream",
          "name": "stdout",
          "text": [
            "True\n"
          ]
        }
      ]
    },
    {
      "cell_type": "code",
      "source": [
        "list(d.keys()), list(d.values())"
      ],
      "metadata": {
        "colab": {
          "base_uri": "https://localhost:8080/"
        },
        "id": "44UjeS_L-I5M",
        "outputId": "69083a72-8faa-4f06-e2de-4bea4e38aa9d"
      },
      "execution_count": 35,
      "outputs": [
        {
          "output_type": "execute_result",
          "data": {
            "text/plain": [
              "(['cat', 'dog'], ['cute', 'furry'])"
            ]
          },
          "metadata": {},
          "execution_count": 35
        }
      ]
    },
    {
      "cell_type": "code",
      "metadata": {
        "colab": {
          "base_uri": "https://localhost:8080/"
        },
        "id": "f7dj9l252xGB",
        "outputId": "f98401b8-745b-4f52-a82a-99c7d55b5017"
      },
      "source": [
        "d['fish'] = 'wet'     # Add element to a dictionary\n",
        "print(d['fish'])\n",
        "d"
      ],
      "execution_count": 36,
      "outputs": [
        {
          "output_type": "stream",
          "name": "stdout",
          "text": [
            "wet\n"
          ]
        },
        {
          "output_type": "execute_result",
          "data": {
            "text/plain": [
              "{'cat': 'cute', 'dog': 'furry', 'fish': 'wet'}"
            ]
          },
          "metadata": {},
          "execution_count": 36
        }
      ]
    },
    {
      "cell_type": "code",
      "metadata": {
        "colab": {
          "base_uri": "https://localhost:8080/"
        },
        "id": "Ld22rj9W4FBm",
        "outputId": "25dafbd4-1272-4c5d-e833-9635f0e061b7"
      },
      "source": [
        "d.update({'bird':'feathery','koala':'sleepy'}) # Add multiple elements to a dictionary\n",
        "d"
      ],
      "execution_count": 37,
      "outputs": [
        {
          "output_type": "execute_result",
          "data": {
            "text/plain": [
              "{'cat': 'cute',\n",
              " 'dog': 'furry',\n",
              " 'fish': 'wet',\n",
              " 'bird': 'feathery',\n",
              " 'koala': 'sleepy'}"
            ]
          },
          "metadata": {},
          "execution_count": 37
        }
      ]
    },
    {
      "cell_type": "code",
      "metadata": {
        "id": "Wxu5x3Nh28ID"
      },
      "source": [
        "# print(d['monkey'])  # KeyError: 'monkey' not a key of d"
      ],
      "execution_count": 38,
      "outputs": []
    },
    {
      "cell_type": "code",
      "metadata": {
        "colab": {
          "base_uri": "https://localhost:8080/"
        },
        "id": "rFo5Es4u3CNK",
        "outputId": "daac2555-2f7c-4de6-c490-ccbfc07c646b"
      },
      "source": [
        "print(d.get('monkey', 'banana'))\n",
        "print(d.get('koala', 'none'))"
      ],
      "execution_count": 39,
      "outputs": [
        {
          "output_type": "stream",
          "name": "stdout",
          "text": [
            "banana\n",
            "sleepy\n"
          ]
        }
      ]
    },
    {
      "cell_type": "code",
      "metadata": {
        "colab": {
          "base_uri": "https://localhost:8080/"
        },
        "id": "euCmVzZA3HeK",
        "outputId": "274dbd1a-8cea-4a64-c4c7-d975654da45f"
      },
      "source": [
        "del d['fish'] # Delete element\n",
        "print(d.get('fish', 'N/A'))"
      ],
      "execution_count": 40,
      "outputs": [
        {
          "output_type": "stream",
          "name": "stdout",
          "text": [
            "N/A\n"
          ]
        }
      ]
    },
    {
      "cell_type": "code",
      "metadata": {
        "colab": {
          "base_uri": "https://localhost:8080/"
        },
        "id": "usLQ6h5pD5N_",
        "outputId": "2a314cc6-ae41-43ea-d156-c0b2c665e5d9"
      },
      "source": [
        "d"
      ],
      "execution_count": 41,
      "outputs": [
        {
          "output_type": "execute_result",
          "data": {
            "text/plain": [
              "{'cat': 'cute', 'dog': 'furry', 'bird': 'feathery', 'koala': 'sleepy'}"
            ]
          },
          "metadata": {},
          "execution_count": 41
        }
      ]
    },
    {
      "cell_type": "markdown",
      "metadata": {
        "id": "y5_Wjt6v7xiU"
      },
      "source": [
        "## Loop"
      ]
    },
    {
      "cell_type": "code",
      "metadata": {
        "colab": {
          "base_uri": "https://localhost:8080/"
        },
        "id": "3h3N5cMd7y_N",
        "outputId": "0e90f812-bb56-4fe7-9ffd-80e66f208664"
      },
      "source": [
        "for animal in d:\n",
        "    attrib = d[animal]\n",
        "    print('A %s is %s' % (animal, attrib))"
      ],
      "execution_count": 42,
      "outputs": [
        {
          "output_type": "stream",
          "name": "stdout",
          "text": [
            "A cat is cute\n",
            "A dog is furry\n",
            "A bird is feathery\n",
            "A koala is sleepy\n"
          ]
        }
      ]
    },
    {
      "cell_type": "code",
      "metadata": {
        "colab": {
          "base_uri": "https://localhost:8080/"
        },
        "id": "8oAKhgsUEPZq",
        "outputId": "02fcd221-d4bc-4f7a-a7c5-5d77c27d7fb5"
      },
      "source": [
        "d.items()"
      ],
      "execution_count": 43,
      "outputs": [
        {
          "output_type": "execute_result",
          "data": {
            "text/plain": [
              "dict_items([('cat', 'cute'), ('dog', 'furry'), ('bird', 'feathery'), ('koala', 'sleepy')])"
            ]
          },
          "metadata": {},
          "execution_count": 43
        }
      ]
    },
    {
      "cell_type": "code",
      "metadata": {
        "colab": {
          "base_uri": "https://localhost:8080/"
        },
        "id": "qJG6ynsK-wC0",
        "outputId": "f36f0ee5-a721-4534-cd2e-55a6cd70d279"
      },
      "source": [
        "for animal, attrib in d.items():\n",
        "    print('A %s is %s' % (animal, attrib))"
      ],
      "execution_count": 44,
      "outputs": [
        {
          "output_type": "stream",
          "name": "stdout",
          "text": [
            "A cat is cute\n",
            "A dog is furry\n",
            "A bird is feathery\n",
            "A koala is sleepy\n"
          ]
        }
      ]
    },
    {
      "cell_type": "markdown",
      "metadata": {
        "id": "8CyFoe61-8Wi"
      },
      "source": [
        "## Dictionary Comprehensions"
      ]
    },
    {
      "cell_type": "code",
      "metadata": {
        "colab": {
          "base_uri": "https://localhost:8080/"
        },
        "id": "HVc9L8qn-3Lq",
        "outputId": "bca856df-97fd-4cf3-c66a-8ab4d7613369"
      },
      "source": [
        "nums = list(range(0,20))\n",
        "even_num_squares = {x: x ** 2 for x in nums if x % 2 == 0}\n",
        "even_num_squares"
      ],
      "execution_count": 45,
      "outputs": [
        {
          "output_type": "execute_result",
          "data": {
            "text/plain": [
              "{0: 0, 2: 4, 4: 16, 6: 36, 8: 64, 10: 100, 12: 144, 14: 196, 16: 256, 18: 324}"
            ]
          },
          "metadata": {},
          "execution_count": 45
        }
      ]
    },
    {
      "cell_type": "markdown",
      "metadata": {
        "id": "0omenFVb_MhC"
      },
      "source": [
        "# Sets\n",
        "A set is an unordered collection of distinct elements."
      ]
    },
    {
      "cell_type": "code",
      "metadata": {
        "colab": {
          "base_uri": "https://localhost:8080/"
        },
        "id": "eICZbDuJ_PJF",
        "outputId": "2f9d6969-ed3b-4ff4-bb7c-c5e6c83e6f52"
      },
      "source": [
        "animals = {'cat', 'dog'}\n",
        "print('cat' in animals)   # Check if an element is in a set\n",
        "print('fish' in animals)  # Check if an element is in a set\n",
        "\n",
        "animals.add('fish')       # Add an element to a set\n",
        "print('fish' in animals)  # Check if an element is in a set"
      ],
      "execution_count": 46,
      "outputs": [
        {
          "output_type": "stream",
          "name": "stdout",
          "text": [
            "True\n",
            "False\n",
            "True\n"
          ]
        }
      ]
    },
    {
      "cell_type": "code",
      "metadata": {
        "colab": {
          "base_uri": "https://localhost:8080/"
        },
        "id": "NtkT6ib_FNot",
        "outputId": "80199718-ccae-4101-8b80-2d26839613a2"
      },
      "source": [
        "animals"
      ],
      "execution_count": 47,
      "outputs": [
        {
          "output_type": "execute_result",
          "data": {
            "text/plain": [
              "{'cat', 'dog', 'fish'}"
            ]
          },
          "metadata": {},
          "execution_count": 47
        }
      ]
    },
    {
      "cell_type": "code",
      "metadata": {
        "colab": {
          "base_uri": "https://localhost:8080/"
        },
        "id": "8LM2mIug_fC0",
        "outputId": "f992c6c4-9955-41a5-f5f7-666ba707ccd2"
      },
      "source": [
        "print(len(animals))       # Number of elements in a set\n",
        "animals.add('cat')        # Adding an element that is already in the set does nothing\n",
        "print(len(animals))\n",
        "print(animals)"
      ],
      "execution_count": 48,
      "outputs": [
        {
          "output_type": "stream",
          "name": "stdout",
          "text": [
            "3\n",
            "3\n",
            "{'fish', 'dog', 'cat'}\n"
          ]
        }
      ]
    },
    {
      "cell_type": "code",
      "source": [
        "animals.remove('cat')     # Remove an element from a set\n",
        "print(len(animals))\n",
        "print(animals)"
      ],
      "metadata": {
        "colab": {
          "base_uri": "https://localhost:8080/"
        },
        "id": "ocEE7QTX_wOS",
        "outputId": "c5924b97-9dd0-4697-8b61-0945357be4f0"
      },
      "execution_count": 49,
      "outputs": [
        {
          "output_type": "stream",
          "name": "stdout",
          "text": [
            "2\n",
            "{'fish', 'dog'}\n"
          ]
        }
      ]
    },
    {
      "cell_type": "markdown",
      "metadata": {
        "id": "Rv2yaaFpALmm"
      },
      "source": [
        "# Tuples"
      ]
    },
    {
      "cell_type": "code",
      "metadata": {
        "colab": {
          "base_uri": "https://localhost:8080/"
        },
        "id": "6q0Frpa2ANAD",
        "outputId": "c12661f6-f58f-4c5d-d893-553f080cba64"
      },
      "source": [
        "d = {(x, x + 1): x for x in range(10)}\n",
        "d"
      ],
      "execution_count": 50,
      "outputs": [
        {
          "output_type": "execute_result",
          "data": {
            "text/plain": [
              "{(0, 1): 0,\n",
              " (1, 2): 1,\n",
              " (2, 3): 2,\n",
              " (3, 4): 3,\n",
              " (4, 5): 4,\n",
              " (5, 6): 5,\n",
              " (6, 7): 6,\n",
              " (7, 8): 7,\n",
              " (8, 9): 8,\n",
              " (9, 10): 9}"
            ]
          },
          "metadata": {},
          "execution_count": 50
        }
      ]
    },
    {
      "cell_type": "code",
      "metadata": {
        "colab": {
          "base_uri": "https://localhost:8080/"
        },
        "id": "5s184HgHAZuy",
        "outputId": "f56d5c72-ad4e-4234-b7e9-77597d171bfe"
      },
      "source": [
        "t = (5, 6)        # Create a tuple\n",
        "print(type(t))"
      ],
      "execution_count": 51,
      "outputs": [
        {
          "output_type": "stream",
          "name": "stdout",
          "text": [
            "<class 'tuple'>\n"
          ]
        }
      ]
    },
    {
      "cell_type": "code",
      "metadata": {
        "colab": {
          "base_uri": "https://localhost:8080/"
        },
        "id": "xhT1vXWBAc76",
        "outputId": "2513ad12-273f-48c7-dcde-5d936c1218eb"
      },
      "source": [
        "print(d[t])       # Prints \"5\"\n",
        "print(d[(1, 2)])"
      ],
      "execution_count": 52,
      "outputs": [
        {
          "output_type": "stream",
          "name": "stdout",
          "text": [
            "5\n",
            "1\n"
          ]
        }
      ]
    }
  ]
}
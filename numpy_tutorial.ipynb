{
  "nbformat": 4,
  "nbformat_minor": 0,
  "metadata": {
    "colab": {
      "provenance": [],
      "include_colab_link": true
    },
    "kernelspec": {
      "name": "python3",
      "display_name": "Python 3"
    },
    "language_info": {
      "name": "python"
    }
  },
  "cells": [
    {
      "cell_type": "markdown",
      "metadata": {
        "id": "view-in-github",
        "colab_type": "text"
      },
      "source": [
        "<a href=\"https://colab.research.google.com/github/sazidthe1/Data-Science-Zero-to-Hero/blob/main/numpy_tutorial.ipynb\" target=\"_parent\"><img src=\"https://colab.research.google.com/assets/colab-badge.svg\" alt=\"Open In Colab\"/></a>"
      ]
    },
    {
      "cell_type": "markdown",
      "metadata": {
        "id": "ApOjeaImTnrS"
      },
      "source": [
        "# NumPy\n",
        "Numpy is the core library for scientific computing in Python. <br/>\n",
        "It provides a high-performance multidimensional array object, and tools for working with these arrays. <br/>\n",
        "Official NumPy Documentation: https://numpy.org/doc/stable/reference/"
      ]
    },
    {
      "cell_type": "code",
      "metadata": {
        "id": "o88PpDZxT4NC"
      },
      "source": [
        "# Install NumPy\n",
        "# ! pip install numpy"
      ],
      "execution_count": 1,
      "outputs": []
    },
    {
      "cell_type": "markdown",
      "metadata": {
        "id": "Ar0QaWZ2UHpI"
      },
      "source": [
        "Since NumPy is not a default thing in Python. We import this library. When we import a library we allow all the functions and types with the initial of that library."
      ]
    },
    {
      "cell_type": "code",
      "metadata": {
        "id": "yagboqoaTRvF"
      },
      "source": [
        "# Import NumPy\n",
        "import numpy as np"
      ],
      "execution_count": 2,
      "outputs": []
    },
    {
      "cell_type": "markdown",
      "metadata": {
        "id": "oBSNzijVUjjQ"
      },
      "source": [
        "# NumPy Arrays\n",
        "A grid of values, all of the same type. <br/>\n",
        "**Rank:** number of dimensions of the array <br/>\n",
        "**Shape:** an array of tuple of integers giving the size of the array along each dimension."
      ]
    },
    {
      "cell_type": "code",
      "metadata": {
        "id": "CXff2yPjUi94",
        "colab": {
          "base_uri": "https://localhost:8080/"
        },
        "outputId": "e945e90a-8cca-4649-954b-6446eadd7645"
      },
      "source": [
        "# Rank 1 array\n",
        "a = np.array([1, 2, 3])\n",
        "print(type(a))            # Prints data type"
      ],
      "execution_count": 3,
      "outputs": [
        {
          "output_type": "stream",
          "name": "stdout",
          "text": [
            "<class 'numpy.ndarray'>\n"
          ]
        }
      ]
    },
    {
      "cell_type": "code",
      "metadata": {
        "id": "5n2_jk91VtFA",
        "colab": {
          "base_uri": "https://localhost:8080/"
        },
        "outputId": "44fdd75a-3acc-4b43-a037-50b4fb87c602"
      },
      "source": [
        "print(a.shape)"
      ],
      "execution_count": 4,
      "outputs": [
        {
          "output_type": "stream",
          "name": "stdout",
          "text": [
            "(3,)\n"
          ]
        }
      ]
    },
    {
      "cell_type": "code",
      "metadata": {
        "id": "NJxPXW9pVuzY",
        "colab": {
          "base_uri": "https://localhost:8080/"
        },
        "outputId": "0dae075a-f05d-4819-aa44-3e5d190955f1"
      },
      "source": [
        "print(a[0], a[1], a[2])   # Indexing"
      ],
      "execution_count": 5,
      "outputs": [
        {
          "output_type": "stream",
          "name": "stdout",
          "text": [
            "1 2 3\n"
          ]
        }
      ]
    },
    {
      "cell_type": "code",
      "source": [
        "a[0] = 5                  # Assigning\n",
        "print(a)"
      ],
      "metadata": {
        "colab": {
          "base_uri": "https://localhost:8080/"
        },
        "id": "5Hk_F60Mb9h0",
        "outputId": "903d5f3d-ef3d-449c-99c4-ea0374af5bf4"
      },
      "execution_count": 6,
      "outputs": [
        {
          "output_type": "stream",
          "name": "stdout",
          "text": [
            "[5 2 3]\n"
          ]
        }
      ]
    },
    {
      "cell_type": "code",
      "metadata": {
        "id": "uEgZjXkNVdbA",
        "colab": {
          "base_uri": "https://localhost:8080/"
        },
        "outputId": "ad4b85b3-5151-44d6-eb5e-38d7dbd584cd"
      },
      "source": [
        "# Rank 2 array\n",
        "b = np.array([ [1,2,3], [4,5,6]  ])\n",
        "'''\n",
        "# of elements in first 3rd bracket => 2\n",
        "# of elements in second 3rd bracket => 3\n",
        "'''\n",
        "\n",
        "print(b.shape)\n",
        "print(b[0, 0], b[0, 1], b[1, 0], b[1,2])"
      ],
      "execution_count": 7,
      "outputs": [
        {
          "output_type": "stream",
          "name": "stdout",
          "text": [
            "(2, 3)\n",
            "1 2 4 6\n"
          ]
        }
      ]
    },
    {
      "cell_type": "markdown",
      "metadata": {
        "id": "5HglTaXHW7UQ"
      },
      "source": [
        "## Special Arrays"
      ]
    },
    {
      "cell_type": "code",
      "metadata": {
        "id": "9KiH-0llW_cJ",
        "colab": {
          "base_uri": "https://localhost:8080/"
        },
        "outputId": "2f00d188-37e7-4529-a37a-6cceda7a9fa9"
      },
      "source": [
        "a = np.zeros((2,6))   # Create an array of all zeros\n",
        "a"
      ],
      "execution_count": 8,
      "outputs": [
        {
          "output_type": "execute_result",
          "data": {
            "text/plain": [
              "array([[0., 0., 0., 0., 0., 0.],\n",
              "       [0., 0., 0., 0., 0., 0.]])"
            ]
          },
          "metadata": {},
          "execution_count": 8
        }
      ]
    },
    {
      "cell_type": "code",
      "metadata": {
        "id": "N2iC6syW7_Mo",
        "colab": {
          "base_uri": "https://localhost:8080/"
        },
        "outputId": "9f6dafd9-ceac-4bf7-93b5-56244a180a04"
      },
      "source": [
        "b = np.array([ [1,2,3], [4,5,6]  ])\n",
        "np.zeros_like(b,dtype=int)"
      ],
      "execution_count": 9,
      "outputs": [
        {
          "output_type": "execute_result",
          "data": {
            "text/plain": [
              "array([[0, 0, 0],\n",
              "       [0, 0, 0]])"
            ]
          },
          "metadata": {},
          "execution_count": 9
        }
      ]
    },
    {
      "cell_type": "code",
      "metadata": {
        "id": "9DhhcMOWamKw",
        "colab": {
          "base_uri": "https://localhost:8080/"
        },
        "outputId": "23ddc66e-e729-4db8-96df-7d075a204f23"
      },
      "source": [
        "b = np.ones((3,2))    # Create an array of all ones\n",
        "b"
      ],
      "execution_count": 10,
      "outputs": [
        {
          "output_type": "execute_result",
          "data": {
            "text/plain": [
              "array([[1., 1.],\n",
              "       [1., 1.],\n",
              "       [1., 1.]])"
            ]
          },
          "metadata": {},
          "execution_count": 10
        }
      ]
    },
    {
      "cell_type": "code",
      "metadata": {
        "id": "Log6fZXran8p",
        "colab": {
          "base_uri": "https://localhost:8080/"
        },
        "outputId": "2b66a721-a2b6-43de-f7c7-27c3b3664911"
      },
      "source": [
        "c = np.full((2,4), 7)  # Create a constant array\n",
        "c"
      ],
      "execution_count": 11,
      "outputs": [
        {
          "output_type": "execute_result",
          "data": {
            "text/plain": [
              "array([[7, 7, 7, 7],\n",
              "       [7, 7, 7, 7]])"
            ]
          },
          "metadata": {},
          "execution_count": 11
        }
      ]
    },
    {
      "cell_type": "code",
      "metadata": {
        "id": "JPKsForHaqJ4",
        "colab": {
          "base_uri": "https://localhost:8080/"
        },
        "outputId": "aca4b359-fc23-4c6f-b36a-faa2e4efe169"
      },
      "source": [
        "d = np.eye(3)         # Create a nxn identity matrix\n",
        "d"
      ],
      "execution_count": 12,
      "outputs": [
        {
          "output_type": "execute_result",
          "data": {
            "text/plain": [
              "array([[1., 0., 0.],\n",
              "       [0., 1., 0.],\n",
              "       [0., 0., 1.]])"
            ]
          },
          "metadata": {},
          "execution_count": 12
        }
      ]
    },
    {
      "cell_type": "code",
      "metadata": {
        "id": "rL8Z4wIcasfY",
        "colab": {
          "base_uri": "https://localhost:8080/"
        },
        "outputId": "4b8d30b7-e3e4-47f3-be31-6f59bea3e647"
      },
      "source": [
        "e = np.random.random((4,3))  # Create an array filled with random values\n",
        "e"
      ],
      "execution_count": 13,
      "outputs": [
        {
          "output_type": "execute_result",
          "data": {
            "text/plain": [
              "array([[0.15828211, 0.04126208, 0.6923821 ],\n",
              "       [0.50977901, 0.04611912, 0.29238126],\n",
              "       [0.98580064, 0.33373378, 0.22955788],\n",
              "       [0.42960919, 0.51332143, 0.81158298]])"
            ]
          },
          "metadata": {},
          "execution_count": 13
        }
      ]
    },
    {
      "cell_type": "markdown",
      "metadata": {
        "id": "4ptHyCP3cJV6"
      },
      "source": [
        "## Indexing"
      ]
    },
    {
      "cell_type": "code",
      "metadata": {
        "id": "XPn2LlLFcLdI",
        "colab": {
          "base_uri": "https://localhost:8080/"
        },
        "outputId": "0e188487-3fd1-4494-d8aa-05e2a95598d2"
      },
      "source": [
        "a = np.array([[1,2,3,4],\n",
        "              [5,6,7,8],\n",
        "              [9,10,11,12],\n",
        "              [1,2,3,4],\n",
        "              [5,6,7,8],\n",
        "              [9,10,11,12]])\n",
        "a"
      ],
      "execution_count": 14,
      "outputs": [
        {
          "output_type": "execute_result",
          "data": {
            "text/plain": [
              "array([[ 1,  2,  3,  4],\n",
              "       [ 5,  6,  7,  8],\n",
              "       [ 9, 10, 11, 12],\n",
              "       [ 1,  2,  3,  4],\n",
              "       [ 5,  6,  7,  8],\n",
              "       [ 9, 10, 11, 12]])"
            ]
          },
          "metadata": {},
          "execution_count": 14
        }
      ]
    },
    {
      "cell_type": "code",
      "source": [
        "a[:4,:3]"
      ],
      "metadata": {
        "colab": {
          "base_uri": "https://localhost:8080/"
        },
        "id": "fWlzybmZegC8",
        "outputId": "a34336c4-250e-476e-e9a5-8fdca3602f01"
      },
      "execution_count": 15,
      "outputs": [
        {
          "output_type": "execute_result",
          "data": {
            "text/plain": [
              "array([[ 1,  2,  3],\n",
              "       [ 5,  6,  7],\n",
              "       [ 9, 10, 11],\n",
              "       [ 1,  2,  3]])"
            ]
          },
          "metadata": {},
          "execution_count": 15
        }
      ]
    },
    {
      "cell_type": "code",
      "metadata": {
        "id": "tFmd4Nt3cWqQ",
        "colab": {
          "base_uri": "https://localhost:8080/"
        },
        "outputId": "75115347-dc24-4508-abc3-017be83019d1"
      },
      "source": [
        "b = a[:4,1:3]\n",
        "b"
      ],
      "execution_count": 16,
      "outputs": [
        {
          "output_type": "execute_result",
          "data": {
            "text/plain": [
              "array([[ 2,  3],\n",
              "       [ 6,  7],\n",
              "       [10, 11],\n",
              "       [ 2,  3]])"
            ]
          },
          "metadata": {},
          "execution_count": 16
        }
      ]
    },
    {
      "cell_type": "code",
      "metadata": {
        "id": "IMEdsTZUcNaA",
        "colab": {
          "base_uri": "https://localhost:8080/"
        },
        "outputId": "17c92b8c-cb3b-47ad-a13d-63f6b2539919"
      },
      "source": [
        "print(a[0, 1])   # Prints \"2\"\n",
        "b[0, 0] = 77     # b[0, 0] is the same piece of data as a[0, 1]\n",
        "print(a[0, 1])   # Prints \"77\""
      ],
      "execution_count": 17,
      "outputs": [
        {
          "output_type": "stream",
          "name": "stdout",
          "text": [
            "2\n",
            "77\n"
          ]
        }
      ]
    },
    {
      "cell_type": "code",
      "metadata": {
        "id": "j16NvafAcylA",
        "colab": {
          "base_uri": "https://localhost:8080/"
        },
        "outputId": "497f838d-d616-47a0-d667-9f065b8d74f6"
      },
      "source": [
        "a[1, :], a[1, :].shape"
      ],
      "execution_count": 18,
      "outputs": [
        {
          "output_type": "execute_result",
          "data": {
            "text/plain": [
              "(array([5, 6, 7, 8]), (4,))"
            ]
          },
          "metadata": {},
          "execution_count": 18
        }
      ]
    },
    {
      "cell_type": "code",
      "metadata": {
        "id": "ZCrqnZ1yc1kI",
        "colab": {
          "base_uri": "https://localhost:8080/"
        },
        "outputId": "d09b64d6-0d06-4c4e-ec12-55b13ed9290b"
      },
      "source": [
        "a[1:2, :], a[1:2, :].shape"
      ],
      "execution_count": 19,
      "outputs": [
        {
          "output_type": "execute_result",
          "data": {
            "text/plain": [
              "(array([[5, 6, 7, 8]]), (1, 4))"
            ]
          },
          "metadata": {},
          "execution_count": 19
        }
      ]
    },
    {
      "cell_type": "code",
      "metadata": {
        "id": "tgmeYTCjc3qY",
        "colab": {
          "base_uri": "https://localhost:8080/"
        },
        "outputId": "92026c96-c13d-462b-d845-67efa35c0cdd"
      },
      "source": [
        "a[:, 1], a[:, 1].shape"
      ],
      "execution_count": 20,
      "outputs": [
        {
          "output_type": "execute_result",
          "data": {
            "text/plain": [
              "(array([77,  6, 10,  2,  6, 10]), (6,))"
            ]
          },
          "metadata": {},
          "execution_count": 20
        }
      ]
    },
    {
      "cell_type": "code",
      "metadata": {
        "id": "GqujIAivc6f7",
        "colab": {
          "base_uri": "https://localhost:8080/"
        },
        "outputId": "c1d81335-e2a9-49e6-937f-238f968aefc3"
      },
      "source": [
        "a[:, 1:2], a[:, 1:2].shape"
      ],
      "execution_count": 21,
      "outputs": [
        {
          "output_type": "execute_result",
          "data": {
            "text/plain": [
              "(array([[77],\n",
              "        [ 6],\n",
              "        [10],\n",
              "        [ 2],\n",
              "        [ 6],\n",
              "        [10]]),\n",
              " (6, 1))"
            ]
          },
          "metadata": {},
          "execution_count": 21
        }
      ]
    },
    {
      "cell_type": "code",
      "metadata": {
        "id": "MkmcyvM9di2Y",
        "colab": {
          "base_uri": "https://localhost:8080/"
        },
        "outputId": "2ffb66e4-f5b8-4a28-842a-2193f613f915"
      },
      "source": [
        "np.arange(2,10,2) # (start, end+1, step)"
      ],
      "execution_count": 22,
      "outputs": [
        {
          "output_type": "execute_result",
          "data": {
            "text/plain": [
              "array([2, 4, 6, 8])"
            ]
          },
          "metadata": {},
          "execution_count": 22
        }
      ]
    },
    {
      "cell_type": "markdown",
      "metadata": {
        "id": "_fabuHAgdhFI"
      },
      "source": [
        "## Boolean array indexing"
      ]
    },
    {
      "cell_type": "code",
      "metadata": {
        "id": "3G-UR0j0-kKO",
        "colab": {
          "base_uri": "https://localhost:8080/"
        },
        "outputId": "12d624b4-eca0-4c99-9869-254275297f2f"
      },
      "source": [
        "a"
      ],
      "execution_count": 23,
      "outputs": [
        {
          "output_type": "execute_result",
          "data": {
            "text/plain": [
              "array([[ 1, 77,  3,  4],\n",
              "       [ 5,  6,  7,  8],\n",
              "       [ 9, 10, 11, 12],\n",
              "       [ 1,  2,  3,  4],\n",
              "       [ 5,  6,  7,  8],\n",
              "       [ 9, 10, 11, 12]])"
            ]
          },
          "metadata": {},
          "execution_count": 23
        }
      ]
    },
    {
      "cell_type": "code",
      "metadata": {
        "id": "rdLVGwgWd5Ww",
        "colab": {
          "base_uri": "https://localhost:8080/"
        },
        "outputId": "0abd13ff-49c1-472e-8576-2a80c4f9bd46"
      },
      "source": [
        "bool_idx = (a>10)\n",
        "bool_idx"
      ],
      "execution_count": 24,
      "outputs": [
        {
          "output_type": "execute_result",
          "data": {
            "text/plain": [
              "array([[False,  True, False, False],\n",
              "       [False, False, False, False],\n",
              "       [False, False,  True,  True],\n",
              "       [False, False, False, False],\n",
              "       [False, False, False, False],\n",
              "       [False, False,  True,  True]])"
            ]
          },
          "metadata": {},
          "execution_count": 24
        }
      ]
    },
    {
      "cell_type": "code",
      "metadata": {
        "id": "qm40XCNGeLwQ",
        "colab": {
          "base_uri": "https://localhost:8080/"
        },
        "outputId": "413b98d9-74cb-4f94-9068-ed3c12dc5832"
      },
      "source": [
        "a[bool_idx]"
      ],
      "execution_count": 25,
      "outputs": [
        {
          "output_type": "execute_result",
          "data": {
            "text/plain": [
              "array([77, 11, 12, 11, 12])"
            ]
          },
          "metadata": {},
          "execution_count": 25
        }
      ]
    },
    {
      "cell_type": "code",
      "metadata": {
        "id": "C-5erOrQeQTg",
        "colab": {
          "base_uri": "https://localhost:8080/"
        },
        "outputId": "9b1baf8f-4b1e-45be-cd7a-3461f5acb8aa"
      },
      "source": [
        "a [ a>10 ]"
      ],
      "execution_count": 26,
      "outputs": [
        {
          "output_type": "execute_result",
          "data": {
            "text/plain": [
              "array([77, 11, 12, 11, 12])"
            ]
          },
          "metadata": {},
          "execution_count": 26
        }
      ]
    },
    {
      "cell_type": "markdown",
      "metadata": {
        "id": "x8Zz136keYK5"
      },
      "source": [
        "# Data Types"
      ]
    },
    {
      "cell_type": "code",
      "metadata": {
        "id": "q-mANCbieZwl",
        "colab": {
          "base_uri": "https://localhost:8080/"
        },
        "outputId": "6919d0ad-742a-4883-f2b3-75b8d5bb1581"
      },
      "source": [
        "x = np.array([1, 2])\n",
        "print(x.dtype)"
      ],
      "execution_count": 27,
      "outputs": [
        {
          "output_type": "stream",
          "name": "stdout",
          "text": [
            "int64\n"
          ]
        }
      ]
    },
    {
      "cell_type": "code",
      "metadata": {
        "id": "zkYC3dJDlSDr",
        "colab": {
          "base_uri": "https://localhost:8080/"
        },
        "outputId": "d8274893-fadf-4158-80a7-dc6da002cb2f"
      },
      "source": [
        "x = np.array([1.0, 2.0])\n",
        "print(x.dtype)"
      ],
      "execution_count": 28,
      "outputs": [
        {
          "output_type": "stream",
          "name": "stdout",
          "text": [
            "float64\n"
          ]
        }
      ]
    },
    {
      "cell_type": "code",
      "metadata": {
        "id": "08z0aMU6lV6g",
        "colab": {
          "base_uri": "https://localhost:8080/"
        },
        "outputId": "b7ef289f-11cd-4d9a-c609-838d1c99c6c5"
      },
      "source": [
        "x = np.array([1, 2], dtype=np.float64) # Forcing a particular datatype\n",
        "print(x,x.dtype)"
      ],
      "execution_count": 29,
      "outputs": [
        {
          "output_type": "stream",
          "name": "stdout",
          "text": [
            "[1. 2.] float64\n"
          ]
        }
      ]
    },
    {
      "cell_type": "code",
      "metadata": {
        "id": "MaVw080w_KhC",
        "colab": {
          "base_uri": "https://localhost:8080/"
        },
        "outputId": "2e70a12c-2a8e-4e41-d3a4-8694467b221d"
      },
      "source": [
        "x.dtype"
      ],
      "execution_count": 30,
      "outputs": [
        {
          "output_type": "execute_result",
          "data": {
            "text/plain": [
              "dtype('float64')"
            ]
          },
          "metadata": {},
          "execution_count": 30
        }
      ]
    },
    {
      "cell_type": "markdown",
      "metadata": {
        "id": "2J6BY_dYldMj"
      },
      "source": [
        "# Operations"
      ]
    },
    {
      "cell_type": "code",
      "metadata": {
        "id": "-moXB9WWlczo",
        "colab": {
          "base_uri": "https://localhost:8080/"
        },
        "outputId": "867c2370-db8f-463a-b24f-0f83a5ffc43d"
      },
      "source": [
        "x = np.array([[1,2],[3,4]], dtype=np.float64)\n",
        "y = np.array([[5,6],[7,8]], dtype=np.float64)\n",
        "\n",
        "print(x)\n",
        "print(y)"
      ],
      "execution_count": 31,
      "outputs": [
        {
          "output_type": "stream",
          "name": "stdout",
          "text": [
            "[[1. 2.]\n",
            " [3. 4.]]\n",
            "[[5. 6.]\n",
            " [7. 8.]]\n"
          ]
        }
      ]
    },
    {
      "cell_type": "code",
      "metadata": {
        "id": "4iKIIm9FllcI",
        "colab": {
          "base_uri": "https://localhost:8080/"
        },
        "outputId": "e5418caf-8ab7-4158-d11e-dfdb0be22d9f"
      },
      "source": [
        "# Adding two arrays element-wise\n",
        "print(x + y)\n",
        "print(np.add(x, y))"
      ],
      "execution_count": 32,
      "outputs": [
        {
          "output_type": "stream",
          "name": "stdout",
          "text": [
            "[[ 6.  8.]\n",
            " [10. 12.]]\n",
            "[[ 6.  8.]\n",
            " [10. 12.]]\n"
          ]
        }
      ]
    },
    {
      "cell_type": "code",
      "metadata": {
        "id": "dkU1iGDBl3cr",
        "colab": {
          "base_uri": "https://localhost:8080/"
        },
        "outputId": "e89fb5d7-fed5-404f-a19c-1245d8022a3d"
      },
      "source": [
        "# Substracting two arrays element-wise\n",
        "print(x - y)\n",
        "print(np.subtract(x, y))"
      ],
      "execution_count": 33,
      "outputs": [
        {
          "output_type": "stream",
          "name": "stdout",
          "text": [
            "[[-4. -4.]\n",
            " [-4. -4.]]\n",
            "[[-4. -4.]\n",
            " [-4. -4.]]\n"
          ]
        }
      ]
    },
    {
      "cell_type": "code",
      "metadata": {
        "id": "385CWjzAmP-a",
        "colab": {
          "base_uri": "https://localhost:8080/"
        },
        "outputId": "84bd13a0-0884-4b52-bd2d-4896ce677f4d"
      },
      "source": [
        "# Mutiplication Element-wise\n",
        "print(x * y)\n",
        "print(np.multiply(x, y))"
      ],
      "execution_count": 34,
      "outputs": [
        {
          "output_type": "stream",
          "name": "stdout",
          "text": [
            "[[ 5. 12.]\n",
            " [21. 32.]]\n",
            "[[ 5. 12.]\n",
            " [21. 32.]]\n"
          ]
        }
      ]
    },
    {
      "cell_type": "code",
      "metadata": {
        "id": "gxPgBXR6mQ64",
        "colab": {
          "base_uri": "https://localhost:8080/"
        },
        "outputId": "c726e7ba-8234-4235-e87e-484e24e39650"
      },
      "source": [
        "# Elementwise division\n",
        "print(x / y)\n",
        "print(np.divide(x, y))"
      ],
      "execution_count": 35,
      "outputs": [
        {
          "output_type": "stream",
          "name": "stdout",
          "text": [
            "[[0.2        0.33333333]\n",
            " [0.42857143 0.5       ]]\n",
            "[[0.2        0.33333333]\n",
            " [0.42857143 0.5       ]]\n"
          ]
        }
      ]
    },
    {
      "cell_type": "code",
      "metadata": {
        "id": "YtHY0uM3mRzg",
        "colab": {
          "base_uri": "https://localhost:8080/"
        },
        "outputId": "db1c3934-b9d4-4b59-f4a6-993a0a205ffd"
      },
      "source": [
        "# Elementwise square root\n",
        "print(np.sqrt(x))"
      ],
      "execution_count": 36,
      "outputs": [
        {
          "output_type": "stream",
          "name": "stdout",
          "text": [
            "[[1.         1.41421356]\n",
            " [1.73205081 2.        ]]\n"
          ]
        }
      ]
    },
    {
      "cell_type": "code",
      "metadata": {
        "id": "bDwDMcBjmeDl",
        "colab": {
          "base_uri": "https://localhost:8080/"
        },
        "outputId": "fcd50b64-b8e5-4c81-a0d9-0bfacab6b3fc"
      },
      "source": [
        "# Matrix Multiplication\n",
        "print(x.dot(y))\n",
        "print(np.dot(x, y))"
      ],
      "execution_count": 37,
      "outputs": [
        {
          "output_type": "stream",
          "name": "stdout",
          "text": [
            "[[19. 22.]\n",
            " [43. 50.]]\n",
            "[[19. 22.]\n",
            " [43. 50.]]\n"
          ]
        }
      ]
    },
    {
      "cell_type": "code",
      "metadata": {
        "id": "WBOurWo6nAuY",
        "colab": {
          "base_uri": "https://localhost:8080/"
        },
        "outputId": "ec02d6cb-a299-4551-b752-05b4ce1a05c0"
      },
      "source": [
        "x"
      ],
      "execution_count": 38,
      "outputs": [
        {
          "output_type": "execute_result",
          "data": {
            "text/plain": [
              "array([[1., 2.],\n",
              "       [3., 4.]])"
            ]
          },
          "metadata": {},
          "execution_count": 38
        }
      ]
    },
    {
      "cell_type": "code",
      "metadata": {
        "id": "DZAaamoQmoah",
        "colab": {
          "base_uri": "https://localhost:8080/"
        },
        "outputId": "46948993-59cd-4c02-a7c5-66bb6ac58e29"
      },
      "source": [
        "# Sum of all elements in the array\n",
        "np.sum(x)"
      ],
      "execution_count": 39,
      "outputs": [
        {
          "output_type": "execute_result",
          "data": {
            "text/plain": [
              "10.0"
            ]
          },
          "metadata": {},
          "execution_count": 39
        }
      ]
    },
    {
      "cell_type": "code",
      "metadata": {
        "id": "FmyUrjMzm6Fj",
        "colab": {
          "base_uri": "https://localhost:8080/"
        },
        "outputId": "1507e7f5-e90f-4d89-b1f5-520d62d6c237"
      },
      "source": [
        "print(np.sum(x, axis=0))  # Compute sum of each column\n",
        "print(np.sum(x, axis=1))  # Compute sum of each row"
      ],
      "execution_count": 40,
      "outputs": [
        {
          "output_type": "stream",
          "name": "stdout",
          "text": [
            "[4. 6.]\n",
            "[3. 7.]\n"
          ]
        }
      ]
    },
    {
      "cell_type": "code",
      "metadata": {
        "id": "8EuI0TZ0ASu2",
        "colab": {
          "base_uri": "https://localhost:8080/"
        },
        "outputId": "08751ce2-9517-43dc-bc21-e146d8b2fea6"
      },
      "source": [
        "a, a.shape"
      ],
      "execution_count": 41,
      "outputs": [
        {
          "output_type": "execute_result",
          "data": {
            "text/plain": [
              "(array([[ 1, 77,  3,  4],\n",
              "        [ 5,  6,  7,  8],\n",
              "        [ 9, 10, 11, 12],\n",
              "        [ 1,  2,  3,  4],\n",
              "        [ 5,  6,  7,  8],\n",
              "        [ 9, 10, 11, 12]]),\n",
              " (6, 4))"
            ]
          },
          "metadata": {},
          "execution_count": 41
        }
      ]
    },
    {
      "cell_type": "code",
      "metadata": {
        "id": "JWXv52V0nFJR",
        "colab": {
          "base_uri": "https://localhost:8080/"
        },
        "outputId": "f4b27ff6-b941-4fc4-e0c3-b6b73bb82037"
      },
      "source": [
        "# Transpose\n",
        "a.T, a.T.shape"
      ],
      "execution_count": 42,
      "outputs": [
        {
          "output_type": "execute_result",
          "data": {
            "text/plain": [
              "(array([[ 1,  5,  9,  1,  5,  9],\n",
              "        [77,  6, 10,  2,  6, 10],\n",
              "        [ 3,  7, 11,  3,  7, 11],\n",
              "        [ 4,  8, 12,  4,  8, 12]]),\n",
              " (4, 6))"
            ]
          },
          "metadata": {},
          "execution_count": 42
        }
      ]
    },
    {
      "cell_type": "markdown",
      "metadata": {
        "id": "alGSIQO3nSyr"
      },
      "source": [
        "# Broadcasting"
      ]
    },
    {
      "cell_type": "code",
      "metadata": {
        "id": "2k7nqSmXnUj-",
        "colab": {
          "base_uri": "https://localhost:8080/"
        },
        "outputId": "19d2682a-6035-4a95-e0f7-1b18087247e2"
      },
      "source": [
        "x = np.array([[1,2,3], [4,5,6], [7,8,9], [10, 11, 12]])\n",
        "v = np.array([1, 0, 1])\n",
        "y = x + v  # Add v to each row of x using broadcasting\n",
        "print(y)"
      ],
      "execution_count": 43,
      "outputs": [
        {
          "output_type": "stream",
          "name": "stdout",
          "text": [
            "[[ 2  2  4]\n",
            " [ 5  5  7]\n",
            " [ 8  8 10]\n",
            " [11 11 13]]\n"
          ]
        }
      ]
    },
    {
      "cell_type": "code",
      "metadata": {
        "id": "gBgDlarj2BSs",
        "colab": {
          "base_uri": "https://localhost:8080/"
        },
        "outputId": "e8fb1a47-7cdd-4198-88b9-45f9fe7192fb"
      },
      "source": [
        "x = np.array([[1,2,3], [4,5,6]])\n",
        "y = np.array([4,5])\n",
        "(x.T+y).T"
      ],
      "execution_count": 44,
      "outputs": [
        {
          "output_type": "execute_result",
          "data": {
            "text/plain": [
              "array([[ 5,  6,  7],\n",
              "       [ 9, 10, 11]])"
            ]
          },
          "metadata": {},
          "execution_count": 44
        }
      ]
    },
    {
      "cell_type": "code",
      "metadata": {
        "id": "tFXHIW9rBGTF",
        "colab": {
          "base_uri": "https://localhost:8080/"
        },
        "outputId": "f5a80286-d6e0-41bb-fb53-6f4bd3acb502"
      },
      "source": [
        "x, x.shape"
      ],
      "execution_count": 45,
      "outputs": [
        {
          "output_type": "execute_result",
          "data": {
            "text/plain": [
              "(array([[1, 2, 3],\n",
              "        [4, 5, 6]]),\n",
              " (2, 3))"
            ]
          },
          "metadata": {},
          "execution_count": 45
        }
      ]
    },
    {
      "cell_type": "code",
      "metadata": {
        "id": "mzROjAoHBIjA",
        "colab": {
          "base_uri": "https://localhost:8080/"
        },
        "outputId": "fd077a79-19cc-484b-bbce-80622dcd0a09"
      },
      "source": [
        "x.T, x.T.shape"
      ],
      "execution_count": 46,
      "outputs": [
        {
          "output_type": "execute_result",
          "data": {
            "text/plain": [
              "(array([[1, 4],\n",
              "        [2, 5],\n",
              "        [3, 6]]),\n",
              " (3, 2))"
            ]
          },
          "metadata": {},
          "execution_count": 46
        }
      ]
    },
    {
      "cell_type": "code",
      "metadata": {
        "id": "uAeKkEqYBjt_",
        "colab": {
          "base_uri": "https://localhost:8080/"
        },
        "outputId": "2c45de0e-f827-4b24-abdc-c809e58bfe7b"
      },
      "source": [
        "y, y.shape"
      ],
      "execution_count": 47,
      "outputs": [
        {
          "output_type": "execute_result",
          "data": {
            "text/plain": [
              "(array([4, 5]), (2,))"
            ]
          },
          "metadata": {},
          "execution_count": 47
        }
      ]
    },
    {
      "cell_type": "code",
      "metadata": {
        "id": "sjlbtYi9BJdZ",
        "colab": {
          "base_uri": "https://localhost:8080/"
        },
        "outputId": "60e2caf6-bc8d-432c-c2b0-cd768f873395"
      },
      "source": [
        "x.T+y"
      ],
      "execution_count": 48,
      "outputs": [
        {
          "output_type": "execute_result",
          "data": {
            "text/plain": [
              "array([[ 5,  9],\n",
              "       [ 6, 10],\n",
              "       [ 7, 11]])"
            ]
          },
          "metadata": {},
          "execution_count": 48
        }
      ]
    },
    {
      "cell_type": "code",
      "metadata": {
        "id": "AnnIycFSBK3M",
        "colab": {
          "base_uri": "https://localhost:8080/"
        },
        "outputId": "06a39ba9-9d8b-49e2-df1d-1cb2289a8982"
      },
      "source": [
        "(x.T+y).T"
      ],
      "execution_count": 49,
      "outputs": [
        {
          "output_type": "execute_result",
          "data": {
            "text/plain": [
              "array([[ 5,  6,  7],\n",
              "       [ 9, 10, 11]])"
            ]
          },
          "metadata": {},
          "execution_count": 49
        }
      ]
    },
    {
      "cell_type": "code",
      "metadata": {
        "id": "YxMvoQSm2qsn",
        "colab": {
          "base_uri": "https://localhost:8080/"
        },
        "outputId": "449dbdbe-b32c-4909-82cb-f5063356cc41"
      },
      "source": [
        "x*2"
      ],
      "execution_count": 50,
      "outputs": [
        {
          "output_type": "execute_result",
          "data": {
            "text/plain": [
              "array([[ 2,  4,  6],\n",
              "       [ 8, 10, 12]])"
            ]
          },
          "metadata": {},
          "execution_count": 50
        }
      ]
    },
    {
      "cell_type": "code",
      "metadata": {
        "id": "Ec62caPf2s4s",
        "colab": {
          "base_uri": "https://localhost:8080/"
        },
        "outputId": "cc933c43-690e-4760-ac58-14d62b02955e"
      },
      "source": [
        "x+2"
      ],
      "execution_count": 51,
      "outputs": [
        {
          "output_type": "execute_result",
          "data": {
            "text/plain": [
              "array([[3, 4, 5],\n",
              "       [6, 7, 8]])"
            ]
          },
          "metadata": {},
          "execution_count": 51
        }
      ]
    }
  ]
}
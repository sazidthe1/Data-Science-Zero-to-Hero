{
  "nbformat": 4,
  "nbformat_minor": 0,
  "metadata": {
    "colab": {
      "provenance": [],
      "authorship_tag": "ABX9TyM2DWYwwxvGcJV5RgZ4Ab61",
      "include_colab_link": true
    },
    "kernelspec": {
      "name": "python3",
      "display_name": "Python 3"
    },
    "language_info": {
      "name": "python"
    }
  },
  "cells": [
    {
      "cell_type": "markdown",
      "metadata": {
        "id": "view-in-github",
        "colab_type": "text"
      },
      "source": [
        "<a href=\"https://colab.research.google.com/github/sazidthe1/Data-Science-Zero-to-Hero/blob/main/Assignment2.ipynb\" target=\"_parent\"><img src=\"https://colab.research.google.com/assets/colab-badge.svg\" alt=\"Open In Colab\"/></a>"
      ]
    },
    {
      "cell_type": "markdown",
      "source": [
        "## E-learning - Provided by Othello Financial Service\n"
      ],
      "metadata": {
        "id": "0e_02ISh2MYB"
      }
    },
    {
      "cell_type": "markdown",
      "source": [
        "### Assignment 2 | Submitted by: [Sazidul Islam](https://www.linkedin.com/in/sazidthe1)"
      ],
      "metadata": {
        "id": "gKrO7mcq2xwq"
      }
    },
    {
      "cell_type": "markdown",
      "source": [
        "- Previous assignment 1 link is [here](https://colab.research.google.com/drive/1UIZyL4IOv_NQPeBiwch23MN5bQtU69YG?usp=sharing)"
      ],
      "metadata": {
        "id": "C-_gDofxIzcP"
      }
    },
    {
      "cell_type": "markdown",
      "source": [
        "#### Task 1. Write a program that return multiple values from a function.\n",
        "```\n",
        "Input: 100 50\n",
        "Output:\n",
        "Addition: 150\n",
        "Subtraction: 50\n",
        "```"
      ],
      "metadata": {
        "id": "58O6I2fi28xN"
      }
    },
    {
      "cell_type": "code",
      "source": [
        "def multiple_values():\n",
        "    # Take input from the user\n",
        "    n1, n2 = map(int, input('Enter two integer values separated by a space: ').split())\n",
        "\n",
        "    # Perform addition and subtraction\n",
        "    addition = n1 + n2\n",
        "    subtraction = n1 - n2\n",
        "\n",
        "    # Print the results\n",
        "    print(f'Addition: {addition}')\n",
        "    print(f'Subtraction: {subtraction}')\n",
        "\n",
        "# Let's call the function now\n",
        "multiple_values()"
      ],
      "metadata": {
        "colab": {
          "base_uri": "https://localhost:8080/"
        },
        "id": "hgOcKbpCLJJM",
        "outputId": "8e385387-eb95-497d-f2f4-47c152899d22"
      },
      "execution_count": null,
      "outputs": [
        {
          "output_type": "stream",
          "name": "stdout",
          "text": [
            "Enter two integer values separated by a space: 100 50\n",
            "Addition: 150\n",
            "Subtraction: 50\n"
          ]
        }
      ]
    },
    {
      "cell_type": "markdown",
      "source": [
        "#### Task 2. Generate a Python list of all the even numbers between 2 to 20.\n",
        "\n",
        "```Output: 2,4,6,8,10,12,14,16,18,20```"
      ],
      "metadata": {
        "id": "R4-HEpDz3qUY"
      }
    },
    {
      "cell_type": "code",
      "source": [
        "# Using list comprehension to generate a list of even numbers between 2 and 20\n",
        "even_numbers = [num for num in range(2, 21) if num % 2 == 0]\n",
        "\n",
        "# Print the list of even numbers\n",
        "print(even_numbers)"
      ],
      "metadata": {
        "colab": {
          "base_uri": "https://localhost:8080/"
        },
        "id": "ggKz30icBD1H",
        "outputId": "f469065e-5e39-467f-d4ae-4a32becb291f"
      },
      "execution_count": null,
      "outputs": [
        {
          "output_type": "stream",
          "name": "stdout",
          "text": [
            "[2, 4, 6, 8, 10, 12, 14, 16, 18, 20]\n"
          ]
        }
      ]
    },
    {
      "cell_type": "markdown",
      "source": [
        "#### Task 3. Write a program that find the largest item from the given three numbers using a function.\n",
        "```\n",
        "Input: 40,37,53\n",
        "Output: 53\n",
        "```\n"
      ],
      "metadata": {
        "id": "OGBlNddY3y3l"
      }
    },
    {
      "cell_type": "code",
      "source": [
        "def largest_number(n1, n2, n3):\n",
        "    # Check if n1 is the largest\n",
        "    if n1 > n2 and n1 > n3:\n",
        "        print(f'The largest item is {n1}')\n",
        "    # Check if n2 is the largest\n",
        "    elif n2 > n3 and n2 > n1:\n",
        "        print(f'The largest item is {n2}')\n",
        "    # If neither n1 nor n2 is the largest, n3 must be the largest\n",
        "    else:\n",
        "        print(f'The largest item is {n3}')\n",
        "\n",
        "# Call the function with the provided input numbers\n",
        "largest_number(40, 37, 53)"
      ],
      "metadata": {
        "colab": {
          "base_uri": "https://localhost:8080/"
        },
        "id": "drnEZw5e362a",
        "outputId": "8d9ab46b-b8e9-48e0-eaa9-8c91790d01be"
      },
      "execution_count": null,
      "outputs": [
        {
          "output_type": "stream",
          "name": "stdout",
          "text": [
            "The largest item is 53\n"
          ]
        }
      ]
    }
  ]
}
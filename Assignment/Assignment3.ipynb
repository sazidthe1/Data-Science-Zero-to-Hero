{
  "nbformat": 4,
  "nbformat_minor": 0,
  "metadata": {
    "colab": {
      "provenance": [],
      "authorship_tag": "ABX9TyN+Y0T7rktg8zQYA48uYVsT",
      "include_colab_link": true
    },
    "kernelspec": {
      "name": "python3",
      "display_name": "Python 3"
    },
    "language_info": {
      "name": "python"
    }
  },
  "cells": [
    {
      "cell_type": "markdown",
      "metadata": {
        "id": "view-in-github",
        "colab_type": "text"
      },
      "source": [
        "<a href=\"https://colab.research.google.com/github/sazidthe1/Data-Science-Zero-to-Hero/blob/main/Assignment3.ipynb\" target=\"_parent\"><img src=\"https://colab.research.google.com/assets/colab-badge.svg\" alt=\"Open In Colab\"/></a>"
      ]
    },
    {
      "cell_type": "markdown",
      "source": [
        "![logo.png](data:image/png;base64,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)\n",
        "## E-learning - Provided by Othello Financial Service"
      ],
      "metadata": {
        "id": "sEuzT1lqLqBg"
      }
    },
    {
      "cell_type": "markdown",
      "source": [
        "### Assignment 3 | Submitted by: [Sazidul Islam](https://www.linkedin.com/in/sazidthe1)"
      ],
      "metadata": {
        "id": "gKrO7mcq2xwq"
      }
    },
    {
      "cell_type": "markdown",
      "source": [
        "- Previous assignment 2 link is [here](https://colab.research.google.com/drive/1MR8Z6PjeqNwWQ7Ai5KiDMfM5T8AW-XCe?usp=sharing)"
      ],
      "metadata": {
        "id": "C-_gDofxIzcP"
      }
    },
    {
      "cell_type": "markdown",
      "source": [
        "#### Task 1. Use a loop to display elements from a given list present at odd index positions.\n",
        "\n",
        "\n",
        "```\n",
        "Input: [10, 20, 30, 40, 50, 60, 70, 80, 90, 100]\n",
        "Output: 20 40 60 80 100\n",
        "```"
      ],
      "metadata": {
        "id": "58O6I2fi28xN"
      }
    },
    {
      "cell_type": "code",
      "source": [
        "n = input().split(',')\n",
        "\n",
        "print('Output:', end=' ')\n",
        "for i in range(len(n)):\n",
        "  if i % 2 != 0:\n",
        "    print(f'{n[i]}', end='')"
      ],
      "metadata": {
        "colab": {
          "base_uri": "https://localhost:8080/"
        },
        "id": "hgOcKbpCLJJM",
        "outputId": "7d188406-247c-4699-c065-f4933c777434"
      },
      "execution_count": 1,
      "outputs": [
        {
          "output_type": "stream",
          "name": "stdout",
          "text": [
            "6\n",
            "Output: "
          ]
        }
      ]
    },
    {
      "cell_type": "markdown",
      "source": [
        "#### Task 2. Calculate the cube of all numbers from 1 to a given number.\n",
        "\n",
        "```\n",
        "Input: input number = 6\n",
        "\n",
        "Output:\n",
        "Current Number is : 1  and the cube is 1\n",
        "Current Number is : 2  and the cube is 8\n",
        "Current Number is : 3  and the cube is 27\n",
        "Current Number is : 4  and the cube is 64\n",
        "Current Number is : 5  and the cube is 125\n",
        "Current Number is : 6  and the cube is 216\n",
        "```"
      ],
      "metadata": {
        "id": "R4-HEpDz3qUY"
      }
    },
    {
      "cell_type": "code",
      "source": [
        "n = int(input('Input number = '))\n",
        "\n",
        "for i in range(1, n+1):   # Loop over the range of numbers from 1 to the input number (inclusive)\n",
        "  print(f'Current Number is : {i}  and the cube is {i**3}')"
      ],
      "metadata": {
        "colab": {
          "base_uri": "https://localhost:8080/"
        },
        "id": "ggKz30icBD1H",
        "outputId": "54cf8017-95d2-436b-9dcf-7b56395a9c7c"
      },
      "execution_count": 2,
      "outputs": [
        {
          "output_type": "stream",
          "name": "stdout",
          "text": [
            "Input number = 6\n",
            "Current Number is : 1  and the cube is 1\n",
            "Current Number is : 2  and the cube is 8\n",
            "Current Number is : 3  and the cube is 27\n",
            "Current Number is : 4  and the cube is 64\n",
            "Current Number is : 5  and the cube is 125\n",
            "Current Number is : 6  and the cube is 216\n"
          ]
        }
      ]
    },
    {
      "cell_type": "markdown",
      "source": [
        "Or"
      ],
      "metadata": {
        "id": "Kn46DvU5OLMj"
      }
    },
    {
      "cell_type": "code",
      "source": [
        "n = int(input('Input number = '))\n",
        "\n",
        "i = 1  # Start with 1\n",
        "\n",
        "while i <= n:  # Loop until i reaches n\n",
        "    print(f'Current Number is : {i}  and the cube is {i**3}')\n",
        "    i += 1"
      ],
      "metadata": {
        "colab": {
          "base_uri": "https://localhost:8080/"
        },
        "id": "hSCbWE_2Ceyv",
        "outputId": "d27d2d74-9d4c-4dcc-a434-ad3c67accd06"
      },
      "execution_count": 3,
      "outputs": [
        {
          "output_type": "stream",
          "name": "stdout",
          "text": [
            "Input number = 8\n",
            "Current Number is : 1  and the cube is 1\n",
            "Current Number is : 2  and the cube is 8\n",
            "Current Number is : 3  and the cube is 27\n",
            "Current Number is : 4  and the cube is 64\n",
            "Current Number is : 5  and the cube is 125\n",
            "Current Number is : 6  and the cube is 216\n",
            "Current Number is : 7  and the cube is 343\n",
            "Current Number is : 8  and the cube is 512\n"
          ]
        }
      ]
    },
    {
      "cell_type": "markdown",
      "source": [
        "#### Task 3. Write a program to print the following start pattern using the for loop.\n",
        "```\n",
        "*\n",
        "* *\n",
        "* * *\n",
        "* * * *\n",
        "* * * * *\n",
        "* * * *\n",
        "* * *\n",
        "* *\n",
        "*\n",
        "```\n"
      ],
      "metadata": {
        "id": "OGBlNddY3y3l"
      }
    },
    {
      "cell_type": "code",
      "source": [
        "n = 5\n",
        "\n",
        "for i in range(n+1):\n",
        "  print('*' * i)\n",
        "\n",
        "for i in range(n-1, 0, -1):\n",
        "  print('*' * i)"
      ],
      "metadata": {
        "colab": {
          "base_uri": "https://localhost:8080/"
        },
        "id": "drnEZw5e362a",
        "outputId": "f7eb5d19-a43e-4b9b-d2f9-500a46d6a960"
      },
      "execution_count": 4,
      "outputs": [
        {
          "output_type": "stream",
          "name": "stdout",
          "text": [
            "\n",
            "*\n",
            "**\n",
            "***\n",
            "****\n",
            "*****\n",
            "****\n",
            "***\n",
            "**\n",
            "*\n"
          ]
        }
      ]
    },
    {
      "cell_type": "markdown",
      "source": [
        "Or"
      ],
      "metadata": {
        "id": "mM61v7oAalRh"
      }
    },
    {
      "cell_type": "code",
      "source": [
        "n = int(input('Enter rows number: '))\n",
        "\n",
        "for i in range(n+1):\n",
        "  print('*' * i)\n",
        "\n",
        "for i in range(n-1, 0, -1):\n",
        "  print('*' * i)"
      ],
      "metadata": {
        "colab": {
          "base_uri": "https://localhost:8080/"
        },
        "id": "zZ_I6wpkak5E",
        "outputId": "725c8e25-2e35-458e-a4e4-0a521ec767ca"
      },
      "execution_count": 5,
      "outputs": [
        {
          "output_type": "stream",
          "name": "stdout",
          "text": [
            "Enter rows number: 8\n",
            "\n",
            "*\n",
            "**\n",
            "***\n",
            "****\n",
            "*****\n",
            "******\n",
            "*******\n",
            "********\n",
            "*******\n",
            "******\n",
            "*****\n",
            "****\n",
            "***\n",
            "**\n",
            "*\n"
          ]
        }
      ]
    },
    {
      "cell_type": "markdown",
      "source": [
        "#### Task 4. Display numbers from -10 to -1 using for loop.\n",
        "```\n",
        "Output:\n",
        "-10\n",
        "-9\n",
        "-8\n",
        "-7\n",
        "-6\n",
        "-5\n",
        "-4\n",
        "-3\n",
        "-2\n",
        "-1\n",
        "```"
      ],
      "metadata": {
        "id": "2uCIAItH_W7x"
      }
    },
    {
      "cell_type": "code",
      "source": [
        "for i in range(-10, 0):\n",
        "  print(i)"
      ],
      "metadata": {
        "id": "qR22fgT-_dpr",
        "colab": {
          "base_uri": "https://localhost:8080/"
        },
        "outputId": "b400b008-7b80-460a-b476-db8a4240607f"
      },
      "execution_count": 6,
      "outputs": [
        {
          "output_type": "stream",
          "name": "stdout",
          "text": [
            "-10\n",
            "-9\n",
            "-8\n",
            "-7\n",
            "-6\n",
            "-5\n",
            "-4\n",
            "-3\n",
            "-2\n",
            "-1\n"
          ]
        }
      ]
    }
  ]
}
{
  "nbformat": 4,
  "nbformat_minor": 0,
  "metadata": {
    "colab": {
      "provenance": [],
      "authorship_tag": "ABX9TyOElQTC64zrwR/CMtYzu6Wp",
      "include_colab_link": true
    },
    "kernelspec": {
      "name": "python3",
      "display_name": "Python 3"
    },
    "language_info": {
      "name": "python"
    }
  },
  "cells": [
    {
      "cell_type": "markdown",
      "metadata": {
        "id": "view-in-github",
        "colab_type": "text"
      },
      "source": [
        "<a href=\"https://colab.research.google.com/github/sazidthe1/Data-Science-Zero-to-Hero/blob/main/Assignment1.ipynb\" target=\"_parent\"><img src=\"https://colab.research.google.com/assets/colab-badge.svg\" alt=\"Open In Colab\"/></a>"
      ]
    },
    {
      "cell_type": "markdown",
      "source": [
        "## E-learning - Provided by Othello Financial Service\n"
      ],
      "metadata": {
        "id": "0e_02ISh2MYB"
      }
    },
    {
      "cell_type": "markdown",
      "source": [
        "### Assignment 1 | Submitted by: [Sazidul Islam](https://www.linkedin.com/in/sazidthe1)"
      ],
      "metadata": {
        "id": "gKrO7mcq2xwq"
      }
    },
    {
      "cell_type": "markdown",
      "source": [
        "#### Task 1. Write a program to print the following string in a specific format (see the output).\n",
        "\n",
        "Sample String : \"Twinkle, twinkle, little star, How I wonder what you are! Up above the world so high, Like a diamond in the sky.\n",
        "Twinkle, twinkle, little star, How I wonder what you are\"\n",
        "\n",
        "![Screenshot 2024-03-06 142439.png](data:image/png;base64,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)\n",
        "\n"
      ],
      "metadata": {
        "id": "58O6I2fi28xN"
      }
    },
    {
      "cell_type": "code",
      "source": [
        "print('''\n",
        "Twinkle, twinkle, little star,\n",
        "\\tHow I wonder what you are!\n",
        "\\t\\tUp above the world so high,\n",
        "\\t\\tLike a diamond in the sky.\n",
        "Twinkle, twinkle, little star,\n",
        "\\tHow I wonder what you are\n",
        "''')"
      ],
      "metadata": {
        "id": "hmhilvTFqKKR",
        "colab": {
          "base_uri": "https://localhost:8080/"
        },
        "outputId": "7f76ef54-8cb7-4125-c436-64e405c4e530"
      },
      "execution_count": null,
      "outputs": [
        {
          "output_type": "stream",
          "name": "stdout",
          "text": [
            "\n",
            "Twinkle, twinkle, little star,\n",
            "\tHow I wonder what you are!\n",
            "\t\tUp above the world so high,\n",
            "\t\tLike a diamond in the sky.\n",
            "Twinkle, twinkle, little star,\n",
            "\tHow I wonder what you are\n",
            "\n"
          ]
        }
      ]
    },
    {
      "cell_type": "markdown",
      "source": [
        "#### Task 2. Write a program to Add, Subtract, Multiply and Divide two numbers."
      ],
      "metadata": {
        "id": "R4-HEpDz3qUY"
      }
    },
    {
      "cell_type": "code",
      "source": [
        "# Take the input\n",
        "n1, n2 = map(int, input(\"Enter two integer values separated by a space: \").split())\n",
        "\n",
        "# Perform addition and display the result\n",
        "addition_result = n1 + n2\n",
        "print(f'Add: {addition_result}')\n",
        "\n",
        "# Perform subtraction and display the result\n",
        "subtract_result = n1 - n2\n",
        "print(f'Subtract: {subtract_result}')\n",
        "\n",
        "# Perform multiplication and display the result\n",
        "multiply_result = n1 * n2\n",
        "print(f'Multiply: {multiply_result}')\n",
        "\n",
        "# Perform division and display the result\n",
        "divide_result = n1 / n2\n",
        "print(f'Add: {divide_result}')\n"
      ],
      "metadata": {
        "colab": {
          "base_uri": "https://localhost:8080/"
        },
        "id": "ggKz30icBD1H",
        "outputId": "4360439f-385e-498b-f615-41a9ad999fd5"
      },
      "execution_count": null,
      "outputs": [
        {
          "output_type": "stream",
          "name": "stdout",
          "text": [
            "Enter two integer values separated by a space: 10 20\n",
            "Add: 30\n",
            "Subtract: -10\n",
            "Multiply: 200\n",
            "Add: 0.5\n"
          ]
        }
      ]
    },
    {
      "cell_type": "markdown",
      "source": [
        "#### Task 3. Write a program that check if the first and last number of a list is the same.\n",
        "\n",
        "```\n",
        "Input: [5,6,7,8,5]\n",
        "Output: True\n",
        "```\n",
        "```\n",
        "Input: [5,6,7,8,9]\n",
        "Output: False\n",
        "```"
      ],
      "metadata": {
        "id": "OGBlNddY3y3l"
      }
    },
    {
      "cell_type": "code",
      "source": [
        "# Declare the input variable\n",
        "n = [5, 6, 7, 8, 5]\n",
        "\n",
        "# Check if the first and last elements are the same\n",
        "if n[0] == n[-1]:\n",
        "    print('True')\n",
        "else:\n",
        "    print('False')"
      ],
      "metadata": {
        "colab": {
          "base_uri": "https://localhost:8080/"
        },
        "id": "drnEZw5e362a",
        "outputId": "6f04e3de-fda9-4906-995c-29b599f43e71"
      },
      "execution_count": null,
      "outputs": [
        {
          "output_type": "stream",
          "name": "stdout",
          "text": [
            "True\n"
          ]
        }
      ]
    },
    {
      "cell_type": "code",
      "source": [
        "# Declare the input variable\n",
        "n = [5, 6, 7, 8, 9]\n",
        "\n",
        "# Check if the first and last elements are the same\n",
        "if n[0] == n[-1]:\n",
        "    print('True')\n",
        "else:\n",
        "    print('False')"
      ],
      "metadata": {
        "colab": {
          "base_uri": "https://localhost:8080/"
        },
        "id": "G9dylIEQ-oCi",
        "outputId": "fbbd02ad-cc8f-4725-8e00-1ae6e94c1a54"
      },
      "execution_count": null,
      "outputs": [
        {
          "output_type": "stream",
          "name": "stdout",
          "text": [
            "False\n"
          ]
        }
      ]
    }
  ]
}
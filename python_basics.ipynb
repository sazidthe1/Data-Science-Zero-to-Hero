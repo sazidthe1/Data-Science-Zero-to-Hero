{
  "nbformat": 4,
  "nbformat_minor": 0,
  "metadata": {
    "colab": {
      "provenance": [],
      "include_colab_link": true
    },
    "kernelspec": {
      "name": "python3",
      "display_name": "Python 3"
    },
    "language_info": {
      "name": "python"
    }
  },
  "cells": [
    {
      "cell_type": "markdown",
      "metadata": {
        "id": "view-in-github",
        "colab_type": "text"
      },
      "source": [
        "<a href=\"https://colab.research.google.com/github/sazidthe1/Data-Science-Zero-to-Hero/blob/main/python_basics.ipynb\" target=\"_parent\"><img src=\"https://colab.research.google.com/assets/colab-badge.svg\" alt=\"Open In Colab\"/></a>"
      ]
    },
    {
      "cell_type": "markdown",
      "metadata": {
        "id": "WuW26FcQ3XOC"
      },
      "source": [
        "# Why Python?\n",
        "Python is the most popular and most used language in Data Science. But why?\n",
        "- Python is open source. So we do not need to worry about licensing.\n",
        "- Simple syntax. Looks almost like pseudocode.\n",
        "- Thousands of libraries and active collaborators.\n"
      ]
    },
    {
      "cell_type": "markdown",
      "metadata": {
        "id": "SBqs6l9Z66T2"
      },
      "source": [
        "# Operators\n",
        "There are 3 types of operators\n",
        "- Arithmetic Operators\n",
        "- Comparison Operators\n",
        "- Logical Operators"
      ]
    },
    {
      "cell_type": "markdown",
      "metadata": {
        "id": "TyO3J_z17n2v"
      },
      "source": [
        "## Arithmetic Operators"
      ]
    },
    {
      "cell_type": "code",
      "metadata": {
        "colab": {
          "base_uri": "https://localhost:8080/"
        },
        "id": "e_7WPY9nwqf3",
        "outputId": "362fef2b-2794-4084-accd-002dcdc565eb"
      },
      "source": [
        "print(\"Addition (5+3) =\",5+3 )\n",
        "print(\"Substraction (5-3) =\", 5-3 )\n",
        "print(\"Multiplication (5*3) =\", 5*3 )\n",
        "print(\"Exponent (5**3) =\", 5**3 )\n",
        "print(\"Division (5/3) =\", 5/3 )\n",
        "print(\"Integer Division (5//3) =\", 5//3 )\n",
        "print(\"Remainder (5%3) =\", 5%3 )"
      ],
      "execution_count": null,
      "outputs": [
        {
          "output_type": "stream",
          "name": "stdout",
          "text": [
            "Addition (5+3) = 8\n",
            "Substraction (5-3) = 2\n",
            "Multiplication (5*3) = 15\n",
            "Exponent (5**3) = 125\n",
            "Division (5/3) = 1.6666666666666667\n",
            "Integer Division (5//3) = 1\n",
            "Remainder (5%3) = 2\n"
          ]
        }
      ]
    },
    {
      "cell_type": "markdown",
      "metadata": {
        "id": "2qB9STwS8nWY"
      },
      "source": [
        "## Comparison Operators"
      ]
    },
    {
      "cell_type": "code",
      "metadata": {
        "colab": {
          "base_uri": "https://localhost:8080/"
        },
        "id": "7SIUUa768qnN",
        "outputId": "bb44cb2f-0fb0-45f1-d939-fb30a1033276"
      },
      "source": [
        "print(\"Less than: (5<3) =>\",5<3 )\n",
        "print(\"Less than or Equal to: (5<=3) =>\", 5<=3 )\n",
        "print(\"Equal to: (5==3) =>\", 5==3 )\n",
        "print(\"Greater than: (5>3) =>\", 5>3 )\n",
        "print(\"Greater than or equal to: (5>=3) =>\", 5>=3 )\n",
        "print(\"Not equal to: (5!=3) =>\", 5!=3 )"
      ],
      "execution_count": null,
      "outputs": [
        {
          "output_type": "stream",
          "name": "stdout",
          "text": [
            "Less than: (5<3) => False\n",
            "Less than or Equal to: (5<=3) => False\n",
            "Equal to: (5==3) => False\n",
            "Greater than: (5>3) => True\n",
            "Greater than or equal to: (5>=3) => True\n",
            "Not equal to: (5!=3) => True\n"
          ]
        }
      ]
    },
    {
      "cell_type": "markdown",
      "metadata": {
        "id": "_ZCuY_jt9Y_H"
      },
      "source": [
        "# Logical Operators\n",
        "- and\n",
        "- or\n",
        "- not\n",
        "- xor"
      ]
    },
    {
      "cell_type": "code",
      "metadata": {
        "colab": {
          "base_uri": "https://localhost:8080/"
        },
        "id": "RPfiSJp3GV4P",
        "outputId": "5007bbac-2e3e-4180-db0d-673e9a349e93"
      },
      "source": [
        "t = True\n",
        "f = False\n",
        "print(t and f)\n",
        "print(t or f)\n",
        "print(not t)\n",
        "print(not f)"
      ],
      "execution_count": null,
      "outputs": [
        {
          "output_type": "stream",
          "name": "stdout",
          "text": [
            "False\n",
            "True\n",
            "False\n",
            "True\n"
          ]
        }
      ]
    },
    {
      "cell_type": "markdown",
      "metadata": {
        "id": "1Zff5bZ6-M3d"
      },
      "source": [
        "# Variables\n",
        "Naming Rules:\n",
        "- case-sensitive (s and S are not same)\n",
        "- cannot start with special characters except underscore \"_\"\n",
        "- cannot start with a number"
      ]
    },
    {
      "cell_type": "code",
      "metadata": {
        "colab": {
          "base_uri": "https://localhost:8080/"
        },
        "id": "OvkYJGYyAIJX",
        "outputId": "212a4505-463d-4b31-bd77-7074430fb3ab"
      },
      "source": [
        "a = int(input()) # any variable assignment\n",
        "A = a + 3\n",
        "print(a, A)"
      ],
      "execution_count": null,
      "outputs": [
        {
          "output_type": "stream",
          "name": "stdout",
          "text": [
            "8\n",
            "8 11\n"
          ]
        }
      ]
    },
    {
      "cell_type": "markdown",
      "metadata": {
        "id": "0N9BsBzIAoT1"
      },
      "source": [
        "# Data Types\n",
        "- Integer\n",
        "- Boolean\n",
        "- Float\n",
        "- String"
      ]
    },
    {
      "cell_type": "code",
      "metadata": {
        "colab": {
          "base_uri": "https://localhost:8080/"
        },
        "id": "HPMMtFrkBqrv",
        "outputId": "831ddcd7-66b5-4ec5-972e-7f40d5736a21"
      },
      "source": [
        "a = 212\n",
        "b = True\n",
        "c = 19.97\n",
        "d = \"Master Course\"\n",
        "print(a,b,c,d)\n",
        "type(a), type(b), type(c), type(d)"
      ],
      "execution_count": null,
      "outputs": [
        {
          "output_type": "stream",
          "name": "stdout",
          "text": [
            "212 True 19.97 Master Course\n"
          ]
        },
        {
          "output_type": "execute_result",
          "data": {
            "text/plain": [
              "(int, bool, float, str)"
            ]
          },
          "metadata": {},
          "execution_count": 5
        }
      ]
    },
    {
      "cell_type": "markdown",
      "metadata": {
        "id": "ti8uNdJaGq9M"
      },
      "source": [
        "## Strings\n",
        "Python has great support for strings"
      ]
    },
    {
      "cell_type": "code",
      "metadata": {
        "colab": {
          "base_uri": "https://localhost:8080/"
        },
        "id": "t5sQdonZGmbF",
        "outputId": "0213295c-cb8f-4233-adbd-15a668dafaa1"
      },
      "source": [
        "# write with single or double quote, it does not matter\n",
        "\n",
        "a = 'Master'\n",
        "b = \"Course\"\n",
        "print(a,b)\n",
        "print(len(a),len(b))  # String length\n",
        "\n",
        "hw = a + ' ' + b  # String concatenation\n",
        "print(hw)\n",
        "\n",
        "hw212 = '%s %s %d' % (a, b, 121)  # sprintf style string formatting\n",
        "print(hw212)  # prints \"Master Course 212\"\n",
        "\n",
        "fs = f\"{a} to {b} from {121}\"\n",
        "print(fs)"
      ],
      "execution_count": null,
      "outputs": [
        {
          "output_type": "stream",
          "name": "stdout",
          "text": [
            "Master Course\n",
            "6 6\n",
            "Master Course\n",
            "Master Course 121\n",
            "Master to Course from 121\n"
          ]
        }
      ]
    },
    {
      "cell_type": "code",
      "metadata": {
        "colab": {
          "base_uri": "https://localhost:8080/"
        },
        "id": "GRR36V6kG0ns",
        "outputId": "6777e955-a4e6-4be8-bb88-03a65bc045ce"
      },
      "source": [
        "# Bonus\n",
        "\n",
        "s = \"hello\"\n",
        "print(s.capitalize())  # Capitalize a string\n",
        "print(s.upper())       # Convert a string to uppercase\n",
        "print(s.rjust(10))      # Right-justify a string, padding with spaces\n",
        "print(s.center(10))     # Center a string, padding with spaces\n",
        "print(s.replace('he', 'Tre'))  # Replace all instances of one substring with another\n",
        "print('  world '.strip())  # Strip leading and trailing whitespace\n",
        "print(a*3)\n",
        "print(fs.split())"
      ],
      "execution_count": null,
      "outputs": [
        {
          "output_type": "stream",
          "name": "stdout",
          "text": [
            "Hello\n",
            "HELLO\n",
            "     hello\n",
            "  hello   \n",
            "Trello\n",
            "world\n",
            "MasterMasterMaster\n",
            "['Master', 'to', 'Course', 'from', '121']\n"
          ]
        }
      ]
    },
    {
      "cell_type": "markdown",
      "metadata": {
        "id": "rpt6_iNiC7GO"
      },
      "source": [
        "# Conditional Statements\n",
        "- if - else statement\n",
        "- if - elif - else statement"
      ]
    },
    {
      "cell_type": "code",
      "metadata": {
        "colab": {
          "base_uri": "https://localhost:8080/"
        },
        "id": "5R-ZrcLTC-R1",
        "outputId": "c5348e16-b40b-4e3a-9d8a-7369bbfc198c"
      },
      "source": [
        "x = float(input())\n",
        "\n",
        "if(x>=3.75):    print(\"First Class Honors\")\n",
        "elif(x>=3.0):   print(\"First Class\")\n",
        "else:           print(\"Second Class\")"
      ],
      "execution_count": null,
      "outputs": [
        {
          "output_type": "stream",
          "name": "stdout",
          "text": [
            "2.98\n",
            "Second Class\n"
          ]
        }
      ]
    },
    {
      "cell_type": "markdown",
      "metadata": {
        "id": "0iCsYdF9Dj7T"
      },
      "source": [
        "# Looping Constructs"
      ]
    },
    {
      "cell_type": "code",
      "metadata": {
        "colab": {
          "base_uri": "https://localhost:8080/"
        },
        "id": "eWkjH0a8DnoB",
        "outputId": "dac3a401-58f2-45ec-d34f-37332d60e14c"
      },
      "source": [
        "# Print all odd numbers from 1 to 10\n",
        "for i in range(1,11): # st en+1\n",
        "  if i%2==1 : print(i)"
      ],
      "execution_count": null,
      "outputs": [
        {
          "output_type": "stream",
          "name": "stdout",
          "text": [
            "1\n",
            "3\n",
            "5\n",
            "7\n",
            "9\n"
          ]
        }
      ]
    },
    {
      "cell_type": "code",
      "metadata": {
        "colab": {
          "base_uri": "https://localhost:8080/"
        },
        "id": "eLKfimAhGqbJ",
        "outputId": "583b5932-d75b-465d-a73f-f2ab2ade2fd9"
      },
      "source": [
        "for i in range(1,11,2): # st en+1 step\n",
        "  print(i)"
      ],
      "execution_count": null,
      "outputs": [
        {
          "output_type": "stream",
          "name": "stdout",
          "text": [
            "1\n",
            "3\n",
            "5\n",
            "7\n",
            "9\n"
          ]
        }
      ]
    },
    {
      "cell_type": "code",
      "metadata": {
        "colab": {
          "base_uri": "https://localhost:8080/"
        },
        "id": "Ew7wkt8iKtLh",
        "outputId": "97ad85c8-f751-464a-dbb1-339d65841bb9"
      },
      "source": [
        "start = 50\n",
        "while start>1:\n",
        "  print(start)\n",
        "  start = start // 2"
      ],
      "execution_count": null,
      "outputs": [
        {
          "output_type": "stream",
          "name": "stdout",
          "text": [
            "50\n",
            "25\n",
            "12\n",
            "6\n",
            "3\n"
          ]
        }
      ]
    },
    {
      "cell_type": "code",
      "source": [
        "z = 1000\n",
        "while z > 1:\n",
        "  z = z // 2\n",
        "  print(z)"
      ],
      "metadata": {
        "colab": {
          "base_uri": "https://localhost:8080/"
        },
        "id": "93TVdm7J86XL",
        "outputId": "49c55efc-15d5-4df8-b536-b6995a73af58"
      },
      "execution_count": 3,
      "outputs": [
        {
          "output_type": "stream",
          "name": "stdout",
          "text": [
            "500\n",
            "250\n",
            "125\n",
            "62\n",
            "31\n",
            "15\n",
            "7\n",
            "3\n",
            "1\n"
          ]
        }
      ]
    },
    {
      "cell_type": "markdown",
      "metadata": {
        "id": "_4QJKpbNGx9Z"
      },
      "source": [
        "# Functions"
      ]
    },
    {
      "cell_type": "markdown",
      "metadata": {
        "id": "lnm6F3l_G-G7"
      },
      "source": [
        "Reusable piece of code created for solving specific problem.\n"
      ]
    },
    {
      "cell_type": "code",
      "metadata": {
        "id": "kSSoTtMFGzlp"
      },
      "source": [
        "'''\n",
        "syntax\n",
        "def function_name(arguments):\n",
        "  // code\n",
        "  return something\n",
        "'''\n",
        "\n",
        "def square_of_circle(square):\n",
        "  return square ** 2"
      ],
      "execution_count": null,
      "outputs": []
    },
    {
      "cell_type": "code",
      "metadata": {
        "colab": {
          "base_uri": "https://localhost:8080/"
        },
        "id": "cK8RJOCoISmD",
        "outputId": "894149ac-6024-48e1-c8bd-96a29f3ffa7f"
      },
      "source": [
        "x = float(input())\n",
        "square_of_circle(x)"
      ],
      "execution_count": null,
      "outputs": [
        {
          "name": "stdout",
          "output_type": "stream",
          "text": [
            "4.5\n"
          ]
        },
        {
          "output_type": "execute_result",
          "data": {
            "text/plain": [
              "20.25"
            ]
          },
          "metadata": {},
          "execution_count": 17
        }
      ]
    },
    {
      "cell_type": "code",
      "metadata": {
        "colab": {
          "base_uri": "https://localhost:8080/"
        },
        "id": "wK8FxtQsJq_r",
        "outputId": "66b5c51e-6d52-48eb-a556-09405cb41d6f"
      },
      "source": [
        "def hello(name, loud=False):\n",
        "    if loud:\n",
        "        print(f'HELLO, {name.upper()}!')\n",
        "    else:\n",
        "        print('Hello, %s' % name)\n",
        "\n",
        "hello('Hasan')\n",
        "hello('Hossain', loud=True)"
      ],
      "execution_count": null,
      "outputs": [
        {
          "output_type": "stream",
          "name": "stdout",
          "text": [
            "Hello, Hasan\n",
            "HELLO, HOSSAIN!\n"
          ]
        }
      ]
    },
    {
      "cell_type": "markdown",
      "metadata": {
        "id": "GOrVnjwlKLN5"
      },
      "source": [
        "# Classes"
      ]
    },
    {
      "cell_type": "code",
      "metadata": {
        "id": "S_XUw1njKPQp",
        "colab": {
          "base_uri": "https://localhost:8080/"
        },
        "outputId": "343f3200-a3f3-4cd0-a719-7502bb613f46"
      },
      "source": [
        "class greetings(object):\n",
        "\n",
        "  # Constructor\n",
        "  def __init__(self, name):\n",
        "    self.name = name\n",
        "\n",
        "  # Method\n",
        "  def greet(self, loud=False):\n",
        "    if loud:\n",
        "      print(f'HELLO, {self.name.upper()}!')\n",
        "    else:\n",
        "      print(f'Hello, {self.name.lower()}!')\n",
        "\n",
        "g = greetings('Sazid')    # Construct an instance of Greetings class\n",
        "g.greet()\n",
        "g.greet(loud=True)"
      ],
      "execution_count": null,
      "outputs": [
        {
          "output_type": "stream",
          "name": "stdout",
          "text": [
            "Hello, sazid!\n",
            "HELLO, SAZID!\n"
          ]
        }
      ]
    },
    {
      "cell_type": "code",
      "source": [
        "class greetings2(object):\n",
        "\n",
        "  # Constructor\n",
        "  def __init__(self, name, cohert=5, course='MasterCourse'):\n",
        "    self.name = name\n",
        "    self.cohert = cohert\n",
        "    self.course = course\n",
        "\n",
        "  # Method\n",
        "  def greet(self, loud=False):\n",
        "    if loud:\n",
        "      print(f'HELLO, {self.name.upper()} from Cohert {self.cohert} of {self.course}!')\n",
        "    else:\n",
        "      print(f'Hello, {self.name.lower()} from Cohert {self.cohert} of {self.course}')\n",
        "\n",
        "g = greetings2('Sazid')    # Construct an instance of Greetings class\n",
        "g.greet(loud=True)"
      ],
      "metadata": {
        "colab": {
          "base_uri": "https://localhost:8080/"
        },
        "id": "BaxD-u7S9-J6",
        "outputId": "e502bd99-ea78-4228-ecc5-18250125f2c8"
      },
      "execution_count": 6,
      "outputs": [
        {
          "output_type": "stream",
          "name": "stdout",
          "text": [
            "HELLO, SAZID from Cohert 5 of MasterCourse!\n"
          ]
        }
      ]
    },
    {
      "cell_type": "code",
      "source": [
        "g = greetings2('Shovon')  # Construct an instance of the Greetings2 class\n",
        "g.greet()"
      ],
      "metadata": {
        "colab": {
          "base_uri": "https://localhost:8080/"
        },
        "id": "7_wONR_CEYuk",
        "outputId": "6efc66fe-5610-4fb0-818c-affd015d61ab"
      },
      "execution_count": 9,
      "outputs": [
        {
          "output_type": "stream",
          "name": "stdout",
          "text": [
            "Hello, shovon from Cohert 5 of MasterCourse\n"
          ]
        }
      ]
    },
    {
      "cell_type": "code",
      "source": [
        "f = greetings2('World')\n",
        "f.greet(loud=True)"
      ],
      "metadata": {
        "colab": {
          "base_uri": "https://localhost:8080/"
        },
        "id": "P8m8-cAqEX9u",
        "outputId": "cd50d9f9-d130-468e-bb60-a2e1461b9730"
      },
      "execution_count": 11,
      "outputs": [
        {
          "output_type": "stream",
          "name": "stdout",
          "text": [
            "HELLO, WORLD from Cohert 5 of MasterCourse!\n"
          ]
        }
      ]
    },
    {
      "cell_type": "code",
      "source": [
        "class Family(object):\n",
        "\n",
        "    # Constructor\n",
        "    def __init__(self, name):\n",
        "      self.name = name\n",
        "\n",
        "    # Create a method\n",
        "    def intro(self, member=False):\n",
        "      if member:\n",
        "        print(f'Welcome, {self.name.upper()} to the family!')\n",
        "      else:\n",
        "        print(f'Sorry {self.name}, you are not part of the family :(')\n",
        "\n",
        "m1 = Family('Sazid')\n",
        "m1.intro(member=True)"
      ],
      "metadata": {
        "colab": {
          "base_uri": "https://localhost:8080/"
        },
        "id": "SswLbjQy_P1c",
        "outputId": "928d0b21-d274-4fcc-b7a0-a8e4107122bd"
      },
      "execution_count": 33,
      "outputs": [
        {
          "output_type": "stream",
          "name": "stdout",
          "text": [
            "Welcome, SAZID to the family!\n"
          ]
        }
      ]
    },
    {
      "cell_type": "code",
      "source": [
        "m2 = Family('Suraiya')\n",
        "m2.intro(member=True)"
      ],
      "metadata": {
        "colab": {
          "base_uri": "https://localhost:8080/"
        },
        "id": "sPgf7_whEVXv",
        "outputId": "18560249-2087-458f-f5c4-832360b453a4"
      },
      "execution_count": 34,
      "outputs": [
        {
          "output_type": "stream",
          "name": "stdout",
          "text": [
            "Welcome, SURAIYA to the family!\n"
          ]
        }
      ]
    },
    {
      "cell_type": "code",
      "source": [
        "m3 = Family('Abc')\n",
        "m3.intro(member=False)"
      ],
      "metadata": {
        "colab": {
          "base_uri": "https://localhost:8080/"
        },
        "id": "8ag9xduvEc7F",
        "outputId": "007c721d-3ac8-43d7-9492-f53399375f89"
      },
      "execution_count": 35,
      "outputs": [
        {
          "output_type": "stream",
          "name": "stdout",
          "text": [
            "Sorry Abc, you are not part of the family :(\n"
          ]
        }
      ]
    }
  ]
}